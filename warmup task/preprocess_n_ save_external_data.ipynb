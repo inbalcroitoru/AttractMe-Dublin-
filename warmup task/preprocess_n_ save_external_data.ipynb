{
 "cells": [
  {
   "cell_type": "code",
   "source": [
    "import pyspark.sql.functions as F\n",
    "from elasticsearch import Elasticsearch, helpers\n",
    "from pyspark.sql.types import *\n",
    "from pyspark.sql.functions import col, split, randn\n",
    "from pyspark.ml.feature import OneHotEncoderEstimator, StringIndexer, VectorAssembler\n",
    "from pyspark.ml import Pipeline\n",
    "from pyspark.ml.classification import LogisticRegression\n",
    "from pyspark.ml.regression import LinearRegression\n",
    "from pyspark.ml.evaluation import BinaryClassificationEvaluator, MulticlassClassificationEvaluator\n",
    "from pyspark.mllib.evaluation import BinaryClassificationMetrics, MulticlassMetrics\n",
    "import matplotlib.pyplot as plt\n",
    "import pandas as pd \n",
    "import numpy as np \n",
    "from pyspark.sql.window import Window"
   ],
   "metadata": {
    "application/vnd.databricks.v1+cell": {
     "title": "",
     "showTitle": false,
     "inputWidgets": {},
     "nuid": "047b7ffb-54fd-4aa4-9535-91980890cfcf"
    }
   },
   "outputs": [
    {
     "output_type": "display_data",
     "metadata": {
      "application/vnd.databricks.v1+output": {
       "datasetInfos": [],
       "data": "<div class=\"ansiout\"></div>",
       "removedWidgets": [],
       "addedWidgets": {},
       "type": "html",
       "arguments": {}
      }
     },
     "data": {
      "text/html": [
       "<style scoped>\n  .ansiout {\n    display: block;\n    unicode-bidi: embed;\n    white-space: pre-wrap;\n    word-wrap: break-word;\n    word-break: break-all;\n    font-family: \"Source Code Pro\", \"Menlo\", monospace;;\n    font-size: 13px;\n    color: #555;\n    margin-left: 4px;\n    line-height: 19px;\n  }\n</style>\n<div class=\"ansiout\"></div>"
      ]
     }
    }
   ],
   "execution_count": 0
  },
  {
   "cell_type": "code",
   "source": [],
   "metadata": {
    "application/vnd.databricks.v1+cell": {
     "title": "                                                                                    source_dest_df",
     "showTitle": true,
     "inputWidgets": {},
     "nuid": "5bc087b2-f8ef-47c7-94bc-9e743832e698"
    }
   },
   "outputs": [],
   "execution_count": 0
  },
  {
   "cell_type": "code",
   "source": [
    "schema = StructType([\n",
    "                    StructField(\"line_num\",StringType(),True),\n",
    "                    StructField(\"sourceAndDest\",StringType(),True)])\n",
    "\n",
    "lines_df = spark.read.csv('/data/bus_lines_source_destination.csv', header=True, schema=schema)\n",
    "\n",
    "attralines_dfctions_df = lines_df.dropDuplicates()\n",
    "\n",
    "display(lines_df) "
   ],
   "metadata": {
    "application/vnd.databricks.v1+cell": {
     "title": "",
     "showTitle": false,
     "inputWidgets": {},
     "nuid": "15f6923e-5816-48c6-b97c-f233753204ee"
    }
   },
   "outputs": [
    {
     "output_type": "display_data",
     "metadata": {
      "application/vnd.databricks.v1+output": {
       "type": "ipynbError",
       "data": "",
       "errorSummary": "",
       "arguments": {}
      }
     },
     "data": {
      "text/html": [
       "<style scoped>\n  .ansiout {\n    display: block;\n    unicode-bidi: embed;\n    white-space: pre-wrap;\n    word-wrap: break-word;\n    word-break: break-all;\n    font-family: \"Source Code Pro\", \"Menlo\", monospace;;\n    font-size: 13px;\n    color: #555;\n    margin-left: 4px;\n    line-height: 19px;\n  }\n</style>"
      ]
     }
    }
   ],
   "execution_count": 0
  },
  {
   "cell_type": "code",
   "source": [
    "##Add source and dest cols \n",
    "lines_df = lines_df.withColumn(\"source\", split(F.col(\"sourceAndDest\"), \"To\")[0])\n",
    "lines_df = lines_df.withColumn(\"source\", split(F.col(\"source\"), \"From\")[1]) \n",
    "lines_df = lines_df.withColumn(\"dest\", split(F.col(\"sourceAndDest\"), \"To \")[1]) \n",
    "lines_df = lines_df.withColumn(\"line_num\", F.upper(F.col(\"line_num\")))\n",
    "lines_df = lines_df.withColumn('direction', F.lit(0))\n",
    "#display(lines_df) \n",
    "\n",
    "##duplicate df to change source-dest order (using direction)\n",
    "other_direction_df = lines_df.withColumn('direction', F.lit(1))\n",
    "other_direction_df = other_direction_df.withColumnRenamed('source', 'new_dest').withColumnRenamed('dest', 'new_source').withColumnRenamed('new_source', 'source').withColumnRenamed('new_dest', 'dest').select(\"line_num\",\"sourceAndDest\",\"source\",\"dest\", 'direction')\n",
    "\n",
    "##Concat both source-dest directions \n",
    "other_direction_df = lines_df.withColumn('direction', F.lit(1))\n",
    "other_direction_df = other_direction_df.withColumnRenamed('source', 'new_dest').withColumnRenamed('dest', 'new_source').withColumnRenamed('new_source', 'source').withColumnRenamed('new_dest', 'dest').select(\"line_num\",\"sourceAndDest\",\"source\",\"dest\", 'direction')\n",
    "\n",
    "#Concat both source-dest directions \n",
    "source_dest_df = lines_df.union(other_direction_df)\n",
    "display(source_dest_df)"
   ],
   "metadata": {
    "application/vnd.databricks.v1+cell": {
     "title": "",
     "showTitle": false,
     "inputWidgets": {},
     "nuid": "3833a0b6-78c2-4b67-8244-ae671b78752d"
    }
   },
   "outputs": [
    {
     "output_type": "display_data",
     "metadata": {
      "application/vnd.databricks.v1+output": {
       "datasetInfos": [
        {
         "name": "lines_df",
         "typeStr": "pyspark.sql.dataframe.DataFrame",
         "schema": {
          "fields": [
           {
            "metadata": {},
            "name": "line_num",
            "nullable": true,
            "type": "string"
           },
           {
            "metadata": {},
            "name": "sourceAndDest",
            "nullable": true,
            "type": "string"
           },
           {
            "metadata": {},
            "name": "source",
            "nullable": true,
            "type": "string"
           },
           {
            "metadata": {},
            "name": "dest",
            "nullable": true,
            "type": "string"
           },
           {
            "metadata": {},
            "name": "direction",
            "nullable": false,
            "type": "integer"
           }
          ],
          "type": "struct"
         },
         "tableIdentifier": null
        },
        {
         "name": "other_direction_df",
         "typeStr": "pyspark.sql.dataframe.DataFrame",
         "schema": {
          "fields": [
           {
            "metadata": {},
            "name": "line_num",
            "nullable": true,
            "type": "string"
           },
           {
            "metadata": {},
            "name": "sourceAndDest",
            "nullable": true,
            "type": "string"
           },
           {
            "metadata": {},
            "name": "source",
            "nullable": true,
            "type": "string"
           },
           {
            "metadata": {},
            "name": "dest",
            "nullable": true,
            "type": "string"
           },
           {
            "metadata": {},
            "name": "direction",
            "nullable": false,
            "type": "integer"
           }
          ],
          "type": "struct"
         },
         "tableIdentifier": null
        },
        {
         "name": "source_dest_df",
         "typeStr": "pyspark.sql.dataframe.DataFrame",
         "schema": {
          "fields": [
           {
            "metadata": {},
            "name": "line_num",
            "nullable": true,
            "type": "string"
           },
           {
            "metadata": {},
            "name": "sourceAndDest",
            "nullable": true,
            "type": "string"
           },
           {
            "metadata": {},
            "name": "source",
            "nullable": true,
            "type": "string"
           },
           {
            "metadata": {},
            "name": "dest",
            "nullable": true,
            "type": "string"
           },
           {
            "metadata": {},
            "name": "direction",
            "nullable": false,
            "type": "integer"
           }
          ],
          "type": "struct"
         },
         "tableIdentifier": null
        }
       ],
       "data": "<div class=\"ansiout\"></div>",
       "removedWidgets": [],
       "addedWidgets": {},
       "type": "html",
       "arguments": {}
      }
     },
     "data": {
      "text/html": [
       "<style scoped>\n  .ansiout {\n    display: block;\n    unicode-bidi: embed;\n    white-space: pre-wrap;\n    word-wrap: break-word;\n    word-break: break-all;\n    font-family: \"Source Code Pro\", \"Menlo\", monospace;;\n    font-size: 13px;\n    color: #555;\n    margin-left: 4px;\n    line-height: 19px;\n  }\n</style>\n<div class=\"ansiout\"></div>"
      ]
     }
    }
   ],
   "execution_count": 0
  },
  {
   "cell_type": "code",
   "source": [
    "source_dest_df.write.csv('source_dest_df_1.csv',header=True)"
   ],
   "metadata": {
    "application/vnd.databricks.v1+cell": {
     "title": "",
     "showTitle": false,
     "inputWidgets": {},
     "nuid": "65ff1bc5-aaac-4740-9c73-d298f9374d52"
    }
   },
   "outputs": [
    {
     "output_type": "display_data",
     "metadata": {
      "application/vnd.databricks.v1+output": {
       "datasetInfos": [],
       "data": "<div class=\"ansiout\"></div>",
       "removedWidgets": [],
       "addedWidgets": {},
       "type": "html",
       "arguments": {}
      }
     },
     "data": {
      "text/html": [
       "<style scoped>\n  .ansiout {\n    display: block;\n    unicode-bidi: embed;\n    white-space: pre-wrap;\n    word-wrap: break-word;\n    word-break: break-all;\n    font-family: \"Source Code Pro\", \"Menlo\", monospace;;\n    font-size: 13px;\n    color: #555;\n    margin-left: 4px;\n    line-height: 19px;\n  }\n</style>\n<div class=\"ansiout\"></div>"
      ]
     }
    }
   ],
   "execution_count": 0
  },
  {
   "cell_type": "code",
   "source": [],
   "metadata": {
    "application/vnd.databricks.v1+cell": {
     "title": "                                                                        attractions_with_busStops_df",
     "showTitle": true,
     "inputWidgets": {},
     "nuid": "ab0f003a-e7f1-4ffc-a2df-b96fbad62552"
    }
   },
   "outputs": [],
   "execution_count": 0
  },
  {
   "cell_type": "code",
   "source": [
    "stops_df = spark.read.csv('/data/stops.txt',header=True)\n",
    "stops_df=stops_df.withColumn(\"busStop\", split(F.col(\"stop_name\"), \",\")[1])\n",
    "stops_df=stops_df.withColumn(\"busStop\", split(F.col(\"busStop\"), \" \")[2])\n",
    "stops_df=stops_df[[\"stop_lat\",\"stop_lon\",\"busStop\"]]\n",
    "stops_df = stops_df.withColumnRenamed('stop_lat', 'latitude').withColumnRenamed('stop_lon', 'longitude')\n",
    "display(stops_df)"
   ],
   "metadata": {
    "application/vnd.databricks.v1+cell": {
     "title": "bus_stops",
     "showTitle": true,
     "inputWidgets": {},
     "nuid": "c6dc7d13-43b8-4d5e-9e27-48fafed1b7bb"
    }
   },
   "outputs": [
    {
     "output_type": "display_data",
     "metadata": {
      "application/vnd.databricks.v1+output": {
       "type": "ipynbError",
       "data": "",
       "errorSummary": "",
       "arguments": {}
      }
     },
     "data": {
      "text/html": [
       "<style scoped>\n  .ansiout {\n    display: block;\n    unicode-bidi: embed;\n    white-space: pre-wrap;\n    word-wrap: break-word;\n    word-break: break-all;\n    font-family: \"Source Code Pro\", \"Menlo\", monospace;;\n    font-size: 13px;\n    color: #555;\n    margin-left: 4px;\n    line-height: 19px;\n  }\n</style>"
      ]
     }
    }
   ],
   "execution_count": 0
  },
  {
   "cell_type": "code",
   "source": [
    "schema = StructType([\n",
    "                    StructField(\"Name\",StringType(),True),\n",
    "                    StructField(\"Url\",StringType(),True),\n",
    "                    StructField(\"Telephone\",StringType(),True),\n",
    "                    StructField(\"Longitude\",DoubleType(),True),\n",
    "                    StructField(\"Latitude\",DoubleType(),True),\n",
    "                    StructField(\"AddressRegion\",StringType(),True),\n",
    "                    StructField(\"AddressLocality\",StringType(),True),\n",
    "                    StructField(\"AddressCountry\",StringType(),True)])\n",
    "\n",
    "attractions_df = spark.read.csv('/data/Attractions.csv', header=True, schema=schema)\n",
    "\n",
    "attractions_df = attractions_df.dropDuplicates()\n",
    "display(attractions_df) "
   ],
   "metadata": {
    "application/vnd.databricks.v1+cell": {
     "title": "attractions",
     "showTitle": true,
     "inputWidgets": {},
     "nuid": "31bbc181-dc9d-4491-9241-e2e18ace3a6b"
    }
   },
   "outputs": [
    {
     "output_type": "display_data",
     "metadata": {
      "application/vnd.databricks.v1+output": {
       "type": "ipynbError",
       "data": "",
       "errorSummary": "",
       "arguments": {}
      }
     },
     "data": {
      "text/html": [
       "<style scoped>\n  .ansiout {\n    display: block;\n    unicode-bidi: embed;\n    white-space: pre-wrap;\n    word-wrap: break-word;\n    word-break: break-all;\n    font-family: \"Source Code Pro\", \"Menlo\", monospace;;\n    font-size: 13px;\n    color: #555;\n    margin-left: 4px;\n    line-height: 19px;\n  }\n</style>"
      ]
     }
    }
   ],
   "execution_count": 0
  },
  {
   "cell_type": "code",
   "source": [
    "attractions_df = attractions_df.withColumn(\"Loc_A\",F.concat_ws(\",\",attractions_df[\"Longitude\"], attractions_df[\"Latitude\"]))\nattractions_df = attractions_df.withColumn(\"Loc_A\", split(F.col(\"Loc_A\"), \",\\s*\").cast(ArrayType(DoubleType())).alias(\"Loc_A\"))\nattractions_df = attractions_df[attractions_df.AddressRegion=='Dublin']\nattractions_df = attractions_df.drop('AddressCountry','AddressRegion')\nattractions_df = attractions_df.dropDuplicates(['Name'])\nattractions_df = attractions_df.filter((attractions_df.Name != 'Keel Blue Flag Beach 2019') & (attractions_df.Name != 'Cliffs of Moher Tour - Dublin Tour Company'))\nattractions_df=attractions_df[\"Name\",\"Longitude\",\"Latitude\",\"Loc_A\",\"AddressLocality\"]\ndisplay(attractions_df)"
   ],
   "metadata": {
    "application/vnd.databricks.v1+cell": {
     "title": "",
     "showTitle": false,
     "inputWidgets": {},
     "nuid": "9f6da83b-1fb9-4eee-a7e0-7191ffffd130"
    }
   },
   "outputs": [
    {
     "output_type": "display_data",
     "metadata": {
      "application/vnd.databricks.v1+output": {
       "type": "ipynbError",
       "data": "",
       "errorSummary": "",
       "arguments": {}
      }
     },
     "data": {
      "text/html": [
       "<style scoped>\n  .ansiout {\n    display: block;\n    unicode-bidi: embed;\n    white-space: pre-wrap;\n    word-wrap: break-word;\n    word-break: break-all;\n    font-family: \"Source Code Pro\", \"Menlo\", monospace;;\n    font-size: 13px;\n    color: #555;\n    margin-left: 4px;\n    line-height: 19px;\n  }\n</style>"
      ]
     }
    }
   ],
   "execution_count": 0
  },
  {
   "cell_type": "code",
   "source": [
    "stops_df.createOrReplaceTempView('bus_stops_names')\nattractions_df.createOrReplaceTempView('attractions_df')"
   ],
   "metadata": {
    "application/vnd.databricks.v1+cell": {
     "title": "Join bus_stops_names and attractions_df to get the busStops of the attractions",
     "showTitle": true,
     "inputWidgets": {},
     "nuid": "affbb096-db37-413e-856d-f82e53377a9b"
    }
   },
   "outputs": [
    {
     "output_type": "display_data",
     "metadata": {
      "application/vnd.databricks.v1+output": {
       "datasetInfos": [],
       "data": "<div class=\"ansiout\"></div>",
       "removedWidgets": [],
       "addedWidgets": {},
       "type": "html",
       "arguments": {}
      }
     },
     "data": {
      "text/html": [
       "<style scoped>\n  .ansiout {\n    display: block;\n    unicode-bidi: embed;\n    white-space: pre-wrap;\n    word-wrap: break-word;\n    word-break: break-all;\n    font-family: \"Source Code Pro\", \"Menlo\", monospace;;\n    font-size: 13px;\n    color: #555;\n    margin-left: 4px;\n    line-height: 19px;\n  }\n</style>\n<div class=\"ansiout\"></div>"
      ]
     }
    }
   ],
   "execution_count": 0
  },
  {
   "cell_type": "code",
   "source": [
    "attractions_with_busStops=sqlContext.sql(\"select A.Name, A.Longitude, A.Latitude,A.Loc_A,A.AddressLocality,B.busStop, abs(A.Longitude-B.longitude) as long_dist, abs(A.Latitude-B.latitude) as lat_dist from attractions_df as A left join bus_stops_names as B on abs(A.Longitude-B.longitude)<=0.00120 and abs(A.Latitude-B.latitude)<=0.00120\")"
   ],
   "metadata": {
    "application/vnd.databricks.v1+cell": {
     "title": "Get attractions_with_busStops",
     "showTitle": true,
     "inputWidgets": {},
     "nuid": "d7273386-df0a-4542-9cb7-a9ca2b995bda"
    }
   },
   "outputs": [
    {
     "output_type": "display_data",
     "metadata": {
      "application/vnd.databricks.v1+output": {
       "datasetInfos": [
        {
         "name": "attractions_with_busStops",
         "typeStr": "pyspark.sql.dataframe.DataFrame",
         "schema": {
          "fields": [
           {
            "metadata": {},
            "name": "Name",
            "nullable": true,
            "type": "string"
           },
           {
            "metadata": {},
            "name": "Longitude",
            "nullable": true,
            "type": "double"
           },
           {
            "metadata": {},
            "name": "Latitude",
            "nullable": true,
            "type": "double"
           },
           {
            "metadata": {},
            "name": "Loc_A",
            "nullable": false,
            "type": {
             "containsNull": true,
             "elementType": "double",
             "type": "array"
            }
           },
           {
            "metadata": {},
            "name": "AddressLocality",
            "nullable": true,
            "type": "string"
           },
           {
            "metadata": {},
            "name": "busStop",
            "nullable": true,
            "type": "string"
           },
           {
            "metadata": {},
            "name": "long_dist",
            "nullable": true,
            "type": "double"
           },
           {
            "metadata": {},
            "name": "lat_dist",
            "nullable": true,
            "type": "double"
           }
          ],
          "type": "struct"
         },
         "tableIdentifier": null
        }
       ],
       "data": "<div class=\"ansiout\"></div>",
       "removedWidgets": [],
       "addedWidgets": {},
       "type": "html",
       "arguments": {}
      }
     },
     "data": {
      "text/html": [
       "<style scoped>\n  .ansiout {\n    display: block;\n    unicode-bidi: embed;\n    white-space: pre-wrap;\n    word-wrap: break-word;\n    word-break: break-all;\n    font-family: \"Source Code Pro\", \"Menlo\", monospace;;\n    font-size: 13px;\n    color: #555;\n    margin-left: 4px;\n    line-height: 19px;\n  }\n</style>\n<div class=\"ansiout\"></div>"
      ]
     }
    }
   ],
   "execution_count": 0
  },
  {
   "cell_type": "code",
   "source": [
    "attractions_with_busStops=attractions_with_busStops.withColumn(\"distance\",F.sqrt(F.pow(F.col(\"long_dist\"),2)+F.pow(F.col(\"lat_dist\"),2)))\n\nwindow = Window.partitionBy(attractions_with_busStops['Name']).orderBy(attractions_with_busStops[\"distance\"])\nclosest_stops_df=attractions_with_busStops.select('*', F.rank().over(window).alias('rank')).filter(F.col('rank') <= 3)"
   ],
   "metadata": {
    "application/vnd.databricks.v1+cell": {
     "title": "calc distance and keep 3 nearest stops",
     "showTitle": true,
     "inputWidgets": {},
     "nuid": "d64aa987-a56e-4ba3-ac49-ff48ede4bdd4"
    }
   },
   "outputs": [
    {
     "output_type": "display_data",
     "metadata": {
      "application/vnd.databricks.v1+output": {
       "datasetInfos": [
        {
         "name": "attractions_with_busStops",
         "typeStr": "pyspark.sql.dataframe.DataFrame",
         "schema": {
          "fields": [
           {
            "metadata": {},
            "name": "Name",
            "nullable": true,
            "type": "string"
           },
           {
            "metadata": {},
            "name": "Longitude",
            "nullable": true,
            "type": "double"
           },
           {
            "metadata": {},
            "name": "Latitude",
            "nullable": true,
            "type": "double"
           },
           {
            "metadata": {},
            "name": "Loc_A",
            "nullable": false,
            "type": {
             "containsNull": true,
             "elementType": "double",
             "type": "array"
            }
           },
           {
            "metadata": {},
            "name": "AddressLocality",
            "nullable": true,
            "type": "string"
           },
           {
            "metadata": {},
            "name": "busStop",
            "nullable": true,
            "type": "string"
           },
           {
            "metadata": {},
            "name": "long_dist",
            "nullable": true,
            "type": "double"
           },
           {
            "metadata": {},
            "name": "lat_dist",
            "nullable": true,
            "type": "double"
           },
           {
            "metadata": {},
            "name": "distance",
            "nullable": true,
            "type": "double"
           }
          ],
          "type": "struct"
         },
         "tableIdentifier": null
        },
        {
         "name": "closest_stops_df",
         "typeStr": "pyspark.sql.dataframe.DataFrame",
         "schema": {
          "fields": [
           {
            "metadata": {},
            "name": "Name",
            "nullable": true,
            "type": "string"
           },
           {
            "metadata": {},
            "name": "Longitude",
            "nullable": true,
            "type": "double"
           },
           {
            "metadata": {},
            "name": "Latitude",
            "nullable": true,
            "type": "double"
           },
           {
            "metadata": {},
            "name": "Loc_A",
            "nullable": false,
            "type": {
             "containsNull": true,
             "elementType": "double",
             "type": "array"
            }
           },
           {
            "metadata": {},
            "name": "AddressLocality",
            "nullable": true,
            "type": "string"
           },
           {
            "metadata": {},
            "name": "busStop",
            "nullable": true,
            "type": "string"
           },
           {
            "metadata": {},
            "name": "long_dist",
            "nullable": true,
            "type": "double"
           },
           {
            "metadata": {},
            "name": "lat_dist",
            "nullable": true,
            "type": "double"
           },
           {
            "metadata": {},
            "name": "distance",
            "nullable": true,
            "type": "double"
           },
           {
            "metadata": {},
            "name": "rank",
            "nullable": true,
            "type": "integer"
           }
          ],
          "type": "struct"
         },
         "tableIdentifier": null
        }
       ],
       "data": "<div class=\"ansiout\"></div>",
       "removedWidgets": [],
       "addedWidgets": {},
       "type": "html",
       "arguments": {}
      }
     },
     "data": {
      "text/html": [
       "<style scoped>\n  .ansiout {\n    display: block;\n    unicode-bidi: embed;\n    white-space: pre-wrap;\n    word-wrap: break-word;\n    word-break: break-all;\n    font-family: \"Source Code Pro\", \"Menlo\", monospace;;\n    font-size: 13px;\n    color: #555;\n    margin-left: 4px;\n    line-height: 19px;\n  }\n</style>\n<div class=\"ansiout\"></div>"
      ]
     }
    }
   ],
   "execution_count": 0
  },
  {
   "cell_type": "code",
   "source": [
    "closest_stops_df=closest_stops_df.dropna()"
   ],
   "metadata": {
    "application/vnd.databricks.v1+cell": {
     "title": "",
     "showTitle": false,
     "inputWidgets": {},
     "nuid": "5a72b492-459e-4cf8-b841-1795036db272"
    }
   },
   "outputs": [
    {
     "output_type": "display_data",
     "metadata": {
      "application/vnd.databricks.v1+output": {
       "datasetInfos": [
        {
         "name": "closest_stops_df",
         "typeStr": "pyspark.sql.dataframe.DataFrame",
         "schema": {
          "fields": [
           {
            "metadata": {},
            "name": "Name",
            "nullable": true,
            "type": "string"
           },
           {
            "metadata": {},
            "name": "Longitude",
            "nullable": true,
            "type": "double"
           },
           {
            "metadata": {},
            "name": "Latitude",
            "nullable": true,
            "type": "double"
           },
           {
            "metadata": {},
            "name": "Loc_A",
            "nullable": false,
            "type": {
             "containsNull": true,
             "elementType": "double",
             "type": "array"
            }
           },
           {
            "metadata": {},
            "name": "AddressLocality",
            "nullable": true,
            "type": "string"
           },
           {
            "metadata": {},
            "name": "busStop",
            "nullable": true,
            "type": "string"
           },
           {
            "metadata": {},
            "name": "long_dist",
            "nullable": true,
            "type": "double"
           },
           {
            "metadata": {},
            "name": "lat_dist",
            "nullable": true,
            "type": "double"
           },
           {
            "metadata": {},
            "name": "distance",
            "nullable": true,
            "type": "double"
           },
           {
            "metadata": {},
            "name": "rank",
            "nullable": true,
            "type": "integer"
           }
          ],
          "type": "struct"
         },
         "tableIdentifier": null
        }
       ],
       "data": "<div class=\"ansiout\"></div>",
       "removedWidgets": [],
       "addedWidgets": {},
       "type": "html",
       "arguments": {}
      }
     },
     "data": {
      "text/html": [
       "<style scoped>\n  .ansiout {\n    display: block;\n    unicode-bidi: embed;\n    white-space: pre-wrap;\n    word-wrap: break-word;\n    word-break: break-all;\n    font-family: \"Source Code Pro\", \"Menlo\", monospace;;\n    font-size: 13px;\n    color: #555;\n    margin-left: 4px;\n    line-height: 19px;\n  }\n</style>\n<div class=\"ansiout\"></div>"
      ]
     }
    }
   ],
   "execution_count": 0
  },
  {
   "cell_type": "code",
   "source": [
    "att_with_stops_df=closest_stops_df.drop(\"Loc_A\",\"long_dist\",\"lat_dist\")\ndisplay(att_with_stops_df)"
   ],
   "metadata": {
    "application/vnd.databricks.v1+cell": {
     "title": "",
     "showTitle": false,
     "inputWidgets": {},
     "nuid": "3301fc54-627e-4dc9-aedb-da1b65b5142b"
    }
   },
   "outputs": [
    {
     "output_type": "display_data",
     "metadata": {
      "application/vnd.databricks.v1+output": {
       "datasetInfos": [
        {
         "name": "att_with_stops_df",
         "typeStr": "pyspark.sql.dataframe.DataFrame",
         "schema": {
          "fields": [
           {
            "metadata": {},
            "name": "Name",
            "nullable": true,
            "type": "string"
           },
           {
            "metadata": {},
            "name": "Longitude",
            "nullable": true,
            "type": "double"
           },
           {
            "metadata": {},
            "name": "Latitude",
            "nullable": true,
            "type": "double"
           },
           {
            "metadata": {},
            "name": "AddressLocality",
            "nullable": true,
            "type": "string"
           },
           {
            "metadata": {},
            "name": "busStop",
            "nullable": true,
            "type": "string"
           },
           {
            "metadata": {},
            "name": "distance",
            "nullable": true,
            "type": "double"
           },
           {
            "metadata": {},
            "name": "rank",
            "nullable": true,
            "type": "integer"
           }
          ],
          "type": "struct"
         },
         "tableIdentifier": null
        }
       ],
       "data": "<div class=\"ansiout\"></div>",
       "removedWidgets": [],
       "addedWidgets": {},
       "type": "html",
       "arguments": {}
      }
     },
     "data": {
      "text/html": [
       "<style scoped>\n  .ansiout {\n    display: block;\n    unicode-bidi: embed;\n    white-space: pre-wrap;\n    word-wrap: break-word;\n    word-break: break-all;\n    font-family: \"Source Code Pro\", \"Menlo\", monospace;;\n    font-size: 13px;\n    color: #555;\n    margin-left: 4px;\n    line-height: 19px;\n  }\n</style>\n<div class=\"ansiout\"></div>"
      ]
     }
    }
   ],
   "execution_count": 0
  },
  {
   "cell_type": "code",
   "source": [
    "att_with_stops_df.write.csv('atrractions_with_busStops.csv',header=True)"
   ],
   "metadata": {
    "application/vnd.databricks.v1+cell": {
     "title": "",
     "showTitle": false,
     "inputWidgets": {},
     "nuid": "ef621e03-f83f-4982-aeb0-5df4c5f8c8e4"
    }
   },
   "outputs": [
    {
     "output_type": "display_data",
     "metadata": {
      "application/vnd.databricks.v1+output": {
       "datasetInfos": [],
       "data": "<div class=\"ansiout\"></div>",
       "removedWidgets": [],
       "addedWidgets": {},
       "type": "html",
       "arguments": {}
      }
     },
     "data": {
      "text/html": [
       "<style scoped>\n  .ansiout {\n    display: block;\n    unicode-bidi: embed;\n    white-space: pre-wrap;\n    word-wrap: break-word;\n    word-break: break-all;\n    font-family: \"Source Code Pro\", \"Menlo\", monospace;;\n    font-size: 13px;\n    color: #555;\n    margin-left: 4px;\n    line-height: 19px;\n  }\n</style>\n<div class=\"ansiout\"></div>"
      ]
     }
    }
   ],
   "execution_count": 0
  }
 ],
 "metadata": {
  "application/vnd.databricks.v1+notebook": {
   "notebookName": "save after preprocess addi data",
   "dashboards": [],
   "language": "python",
   "widgets": {},
   "notebookOrigID": 3467094931747116
  }
 },
 "nbformat": 4,
 "nbformat_minor": 0
}
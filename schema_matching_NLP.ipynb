{
 "cells": [
  {
   "cell_type": "markdown",
   "metadata": {},
   "source": [
    "# Schema matching using NLP methods "
   ]
  },
  {
   "cell_type": "code",
   "execution_count": 1,
   "metadata": {},
   "outputs": [],
   "source": [
    "import pandas as pd\n",
    "import numpy as np\n",
    "import re\n",
    "from nltk.corpus import stopwords\n",
    "from sklearn.feature_extraction.text import TfidfVectorizer\n",
    "import matplotlib\n",
    "import matplotlib.pyplot as plt\n",
    "from collections import defaultdict\n",
    "from gensim.models import Word2Vec\n",
    "from sklearn.manifold import TSNE\n",
    "from gensim.models import Phrases\n",
    "import gensim.downloader as api\n",
    "from nltk import download\n",
    "from fuzzywuzzy import fuzz\n",
    "from collections import defaultdict\n",
    "from difflib import SequenceMatcher\n",
    "import logging"
   ]
  },
  {
   "cell_type": "markdown",
   "metadata": {},
   "source": [
    "## Aux functions "
   ]
  },
  {
   "cell_type": "code",
   "execution_count": 2,
   "metadata": {},
   "outputs": [],
   "source": [
    "\"\"\"\n",
    "part of https://www.analyticsinsight.net/company-names-standardization-using-a-fuzzy-nlp-approach/\n",
    "\"\"\"\n",
    "\n",
    "def text2int(textnum, numwords={}):\n",
    "    if not numwords:\n",
    "        units = [\n",
    "        \"zero\", \"one\", \"two\", \"three\", \"four\", \"five\", \"six\", \"seven\", \"eight\",\n",
    "        \"nine\", \"ten\", \"eleven\", \"twelve\", \"thirteen\", \"fourteen\", \"fifteen\",\n",
    "        \"sixteen\", \"seventeen\", \"eighteen\", \"nineteen\",\n",
    "        ]\n",
    "\n",
    "        tens = [\"\", \"\", \"twenty\", \"thirty\", \"forty\", \"fifty\", \"sixty\", \"seventy\", \"eighty\", \"ninety\"]\n",
    "\n",
    "        scales = [\"hundred\", \"thousand\", \"million\", \"billion\", \"trillion\"]\n",
    "\n",
    "        numwords[\"and\"] = (1, 0)\n",
    "        for idx, word in enumerate(units):  numwords[word] = (1, idx)\n",
    "        for idx, word in enumerate(tens):       numwords[word] = (1, idx * 10)\n",
    "        for idx, word in enumerate(scales): numwords[word] = (10 ** (idx * 3 or 2), 0)\n",
    "\n",
    "    ordinal_words = {'first':1, 'second':2, 'third':3, 'fifth':5, 'eighth':8, 'ninth':9, 'twelfth':12}\n",
    "    ordinal_endings = [('ieth', 'y'), ('th', '')]\n",
    "\n",
    "    # textnum = textnum.replace('-', ' ')\n",
    "\n",
    "    current = result = 0\n",
    "    curstring = \"\"\n",
    "    onnumber = False\n",
    "    for word in textnum.split():\n",
    "        if word in ordinal_words:\n",
    "            scale, increment = (1, ordinal_words[word])\n",
    "            current = current * scale + increment\n",
    "            if scale > 100:\n",
    "                result += current\n",
    "                current = 0\n",
    "            onnumber = True\n",
    "        else:\n",
    "            for ending, replacement in ordinal_endings:\n",
    "                if word.endswith(ending):\n",
    "                    word = \"%s%s\" % (word[:-len(ending)], replacement)\n",
    "\n",
    "            if word not in numwords:\n",
    "                if onnumber:\n",
    "                    curstring += repr(result + current) + \" \"\n",
    "                curstring += word + \" \"\n",
    "                result = current = 0\n",
    "                onnumber = False\n",
    "            else:\n",
    "                scale, increment = numwords[word]\n",
    "\n",
    "                current = current * scale + increment\n",
    "                if scale > 100:\n",
    "                    result += current\n",
    "                    current = 0\n",
    "                onnumber = True\n",
    "\n",
    "    if onnumber:\n",
    "        curstring += repr(result + current)\n",
    "\n",
    "    return curstring\n",
    "\n",
    "\n",
    "def clean_special_characters(txt):\n",
    "    seps = [\" \", \";\", \":\", \".\", \",\", \"*\", \"#\", \"@\", \"|\", r\"/\", r\"\\\\\", \"-\", \"_\", \"?\", \"%\", \"!\", \"^\", \"+\", \"=\", \"(\", \")\", r\"'\", \"&\", \"<\", \">\"]\n",
    "    default_sep = seps[0]\n",
    "    \n",
    "    special_words = [\n",
    "        ('street|saint', 'st'),\n",
    "        ('and', '')\n",
    "    ]\n",
    "\n",
    "    for sep in seps[1:]:\n",
    "        txt = txt.replace(sep, default_sep)\n",
    "    \n",
    "    for pattern, repl in special_words:\n",
    "        txt = re.sub(r'\\b' + pattern + r'\\b', repl, txt)\n",
    "    \n",
    "    txt = txt.replace(' s ', \" \")\n",
    "    re.sub(' +', \" \", txt)\n",
    "    temp_list = [i.strip() for i in txt.split(default_sep)]\n",
    "    temp_list = [i for i in temp_list if i]\n",
    "    return \" \".join(temp_list)\n",
    "\n",
    "\n",
    "def clean_stopword(txt):\n",
    "    temp_list = txt.split()\n",
    "    stopwords_list = stopwords.words('english')\n",
    "    temp_list = [i for i in temp_list if i not in stopwords_list]\n",
    "    return \" \".join(temp_list)\n",
    "\n",
    "\n",
    "def data_cleaning(data, nameCol='Name', dropForeign=False):\n",
    "    data = data.dropna(subset=[nameCol])\n",
    "    data = data.rename_axis('idx').reset_index()\n",
    "    data['nonAscii_count'] = data[nameCol].apply(lambda x: sum([not c.isascii() for c in x]))\n",
    "    if dropForeign:\n",
    "        data = data[data.nonAscii_count == 0]\n",
    "    else:\n",
    "        pass\n",
    "    data = data.drop('nonAscii_count', axis=1)\n",
    "    data_clean = data.copy()\n",
    "    data_clean['name_clean'] = data_clean[nameCol].apply(lambda x: x.strip().lower())\n",
    "    data_clean['name_clean'] = data_clean['name_clean'].apply(clean_special_characters)\n",
    "    data_clean['name_clean'] = data_clean['name_clean'].apply(clean_stopword)\n",
    "    # data_clean['name_clean'] = data_clean['name_clean'].apply(text2int)\n",
    "    data_clean['name_clean'] = data_clean['name_clean'].apply(str.strip)\n",
    "\n",
    "    return data_clean"
   ]
  },
  {
   "cell_type": "markdown",
   "metadata": {},
   "source": [
    "## Read data "
   ]
  },
  {
   "cell_type": "code",
   "execution_count": 3,
   "metadata": {},
   "outputs": [],
   "source": [
    "def read_dfs(to_concat=False):\n",
    "    \"\"\"\n",
    "\n",
    "    :param to_clean:\n",
    "    :param to_concat:\n",
    "    :return: if to_concat- return concated df, else- return 2 dfs, rating & loc\n",
    "    \"\"\"\n",
    "    rating_df = pd.read_csv('tripAdvisor_data.csv')\n",
    "    rating_df_clean = data_cleaning(rating_df, nameCol='name').drop_duplicates('name_clean')\n",
    "\n",
    "    loc_df = pd.read_csv('Attractions.csv')\n",
    "    loc_df = loc_df[loc_df.AddressRegion == 'Dublin']\n",
    "    loc_df = loc_df[['Name', \"Longitude\", 'Latitude']]\n",
    "    loc_df = loc_df.drop_duplicates(['Name'])\n",
    "    loc_df = loc_df.rename(columns={'Name': 'name'})\n",
    "    loc_df_clean = data_cleaning(loc_df, nameCol='name').drop_duplicates('name_clean')\n",
    "\n",
    "    if to_concat:\n",
    "        loc_names = loc_df.copy()\n",
    "        loc_names['df'] = 'loc'\n",
    "        rating_names = rating_df.copy()\n",
    "        rating_names['df'] = 'rating'\n",
    "        all_attractions_names = pd.concat([loc_names, rating_names], sort=False)\n",
    "        df = data_cleaning(all_attractions_names, nameCol='name', dropForeign=False).drop_duplicates('name_clean')\n",
    "        return df, rating_df_clean, loc_df_clean\n",
    "\n",
    "    return rating_df_clean, loc_df_clean"
   ]
  },
  {
   "cell_type": "code",
   "execution_count": 4,
   "metadata": {},
   "outputs": [],
   "source": [
    "df, rating_df, loc_df = read_dfs(to_concat=True)"
   ]
  },
  {
   "cell_type": "code",
   "execution_count": 5,
   "metadata": {},
   "outputs": [
    {
     "data": {
      "text/plain": [
       "(638, 564)"
      ]
     },
     "execution_count": 5,
     "metadata": {},
     "output_type": "execute_result"
    }
   ],
   "source": [
    "len(rating_df), len(loc_df)"
   ]
  },
  {
   "cell_type": "code",
   "execution_count": 6,
   "metadata": {},
   "outputs": [],
   "source": [
    "def remove_joined_names(rating_df, loc_df):\n",
    "    joined = pd.merge(rating_df, loc_df, on='name_clean', suffixes=['_rating', '_loc'])\n",
    "\n",
    "    rating_df = rating_df.set_index('name_clean', drop=False).drop(index=joined['name_clean']).set_index('idx', drop=False)\n",
    "    loc_df = loc_df.set_index('name_clean', drop=False).drop(index=joined['name_clean']).set_index('idx', drop=False)\n",
    "\n",
    "    return rating_df, loc_df, joined"
   ]
  },
  {
   "cell_type": "markdown",
   "metadata": {},
   "source": [
    "# similarity"
   ]
  },
  {
   "cell_type": "code",
   "execution_count": 6,
   "metadata": {},
   "outputs": [],
   "source": [
    "class Similarity:\n",
    "    def similarity(self, texts1, texts2) -> np.ndarray:\n",
    "        sim = np.zeros((len(texts1), len(texts2)))\n",
    "                       \n",
    "        for i, x in enumerate(texts1):\n",
    "            for j, y in enumerate(texts2):\n",
    "                sim[i][j] = self.single_similarity(x, y)\n",
    "        \n",
    "        return sim\n",
    "    \n",
    "    def single_similarity(self, text1, text2) -> float:\n",
    "        pass"
   ]
  },
  {
   "cell_type": "markdown",
   "metadata": {},
   "source": [
    "# exact match"
   ]
  },
  {
   "cell_type": "code",
   "execution_count": 8,
   "metadata": {},
   "outputs": [],
   "source": [
    "class ExactSimilarity(Similarity):\n",
    "    def single_similarity(self, text1, text2) -> float:\n",
    "        if text1 == text2:\n",
    "            return 1.0\n",
    "        \n",
    "        return 0.0"
   ]
  },
  {
   "cell_type": "code",
   "execution_count": 11,
   "metadata": {},
   "outputs": [
    {
     "data": {
      "text/plain": [
       "1.0"
      ]
     },
     "execution_count": 11,
     "metadata": {},
     "output_type": "execute_result"
    }
   ],
   "source": [
    "exact_similarity = ExactSimilarity()\n",
    "exact_sim = exact_similarity.similarity(loc_df.name_clean, rating_df.name_clean)\n",
    "exact_sim = exact_sim * 100"
   ]
  },
  {
   "cell_type": "markdown",
   "metadata": {},
   "source": [
    "## tfidf"
   ]
  },
  {
   "cell_type": "code",
   "execution_count": 64,
   "metadata": {},
   "outputs": [],
   "source": [
    "def ngrams(string, n=3):\n",
    "    string = re.sub(r'[,-./]|\\sBD', r'', string)\n",
    "    ngrams = zip(*[string[i:] for i in range(n)])\n",
    "    return [''.join(ngram) for ngram in ngrams]\n",
    "\n",
    "\n",
    "class TFIDFSimilarity(Similarity):\n",
    "    def __init__(self, names1, names2):\n",
    "        self.vectorizer = TfidfVectorizer(analyzer=ngrams)\n",
    "        joined = pd.concat([names1, names2])\n",
    "        self.vectorizer.fit_transform(joined)\n",
    "    \n",
    "    def similarity(self, names1, names2):\n",
    "        X1 = self.vectorizer.transform(names1)\n",
    "        X2 = self.vectorizer.transform(names2)\n",
    "        similarity = X1.dot(X2.T)\n",
    "        return similarity.toarray()"
   ]
  },
  {
   "cell_type": "code",
   "execution_count": 128,
   "metadata": {},
   "outputs": [],
   "source": [
    "tfidf_similarity = TFIDFSimilarity(loc_df.name_clean, rating_df.name_clean)\n",
    "tfidf_sim = tfidf_similarity.similarity(loc_df.name_clean, rating_df.name_clean)\n",
    "tfidf_sim = tfidf_sim * 100 "
   ]
  },
  {
   "cell_type": "markdown",
   "metadata": {},
   "source": [
    "Code for creating Heat Map"
   ]
  },
  {
   "cell_type": "code",
   "execution_count": 129,
   "metadata": {},
   "outputs": [],
   "source": [
    "tfidf_max_i_for_j = match_i_j_greedy(tfidf_sim)"
   ]
  },
  {
   "cell_type": "code",
   "execution_count": 190,
   "metadata": {},
   "outputs": [
    {
     "name": "stdout",
     "output_type": "stream",
     "text": [
      "98\n",
      "4\n"
     ]
    },
    {
     "data": {
      "text/html": [
       "<div>\n",
       "<style scoped>\n",
       "    .dataframe tbody tr th:only-of-type {\n",
       "        vertical-align: middle;\n",
       "    }\n",
       "\n",
       "    .dataframe tbody tr th {\n",
       "        vertical-align: top;\n",
       "    }\n",
       "\n",
       "    .dataframe thead th {\n",
       "        text-align: right;\n",
       "    }\n",
       "</style>\n",
       "<table border=\"1\" class=\"dataframe\">\n",
       "  <thead>\n",
       "    <tr style=\"text-align: right;\">\n",
       "      <th></th>\n",
       "      <th>rating_name</th>\n",
       "      <th>loc_name</th>\n",
       "      <th>score</th>\n",
       "      <th>loc_idxs</th>\n",
       "      <th>rating_idxs</th>\n",
       "    </tr>\n",
       "  </thead>\n",
       "  <tbody>\n",
       "    <tr>\n",
       "      <th>39</th>\n",
       "      <td>kilmainham gaol museum</td>\n",
       "      <td>kilmainham gaol</td>\n",
       "      <td>88.039731</td>\n",
       "      <td>43</td>\n",
       "      <td>4</td>\n",
       "    </tr>\n",
       "    <tr>\n",
       "      <th>58</th>\n",
       "      <td>post general post office</td>\n",
       "      <td>general post office</td>\n",
       "      <td>91.571589</td>\n",
       "      <td>68</td>\n",
       "      <td>114</td>\n",
       "    </tr>\n",
       "    <tr>\n",
       "      <th>144</th>\n",
       "      <td>james clarence mangan bust</td>\n",
       "      <td>james clarence mangan</td>\n",
       "      <td>89.306374</td>\n",
       "      <td>182</td>\n",
       "      <td>471</td>\n",
       "    </tr>\n",
       "    <tr>\n",
       "      <th>206</th>\n",
       "      <td>sporting emporium casino dublin</td>\n",
       "      <td>sporting emporium casino</td>\n",
       "      <td>91.845682</td>\n",
       "      <td>307</td>\n",
       "      <td>134</td>\n",
       "    </tr>\n",
       "  </tbody>\n",
       "</table>\n",
       "</div>"
      ],
      "text/plain": [
       "                         rating_name                  loc_name      score  \\\n",
       "39            kilmainham gaol museum           kilmainham gaol  88.039731   \n",
       "58          post general post office       general post office  91.571589   \n",
       "144       james clarence mangan bust     james clarence mangan  89.306374   \n",
       "206  sporting emporium casino dublin  sporting emporium casino  91.845682   \n",
       "\n",
       "     loc_idxs  rating_idxs  \n",
       "39         43            4  \n",
       "58         68          114  \n",
       "144       182          471  \n",
       "206       307          134  "
      ]
     },
     "execution_count": 190,
     "metadata": {},
     "output_type": "execute_result"
    }
   ],
   "source": [
    "loc_names = []\n",
    "rating_names = []\n",
    "scores = []\n",
    "loc_idxs = []\n",
    "rating_idxs = []\n",
    "\n",
    "for j, i in tfidf_max_i_for_j.items():\n",
    "#     if all_sims_max[i,j] > 0.7:\n",
    "    loc_names.append(loc_df.iloc[i].name_clean)\n",
    "    rating_names.append(rating_df.iloc[j].name_clean)\n",
    "    scores.append(tfidf_sim[i,j])\n",
    "    loc_idxs.append(i)\n",
    "    rating_idxs.append(j)\n",
    "\n",
    "tfidf_res_df = pd.DataFrame(list(zip(rating_names, loc_names, scores, loc_idxs, rating_idxs)),\n",
    "                            columns =['rating_name', 'loc_name', 'score', \"loc_idxs\", \"rating_idxs\"])\n",
    "tfidf_res_df = tfidf_res_df[tfidf_res_df.score > 87]\n",
    "print(len(tfidf_res_df))\n",
    "tfidf_res_df = tfidf_res_df[tfidf_res_df.rating_name!=tfidf_res_df.loc_name]#.head(20)\n",
    "print(len(tfidf_res_df))\n",
    "tfidf_res_df "
   ]
  },
  {
   "cell_type": "code",
   "execution_count": 191,
   "metadata": {},
   "outputs": [
    {
     "name": "stdout",
     "output_type": "stream",
     "text": [
      "(4, 4)\n"
     ]
    },
    {
     "data": {
      "text/plain": [
       "array([[88.03973144,  0.        ,  0.        ,  0.        ],\n",
       "       [ 0.        , 91.57158883,  0.        ,  0.        ],\n",
       "       [ 0.        ,  0.        , 89.30637368,  0.        ],\n",
       "       [ 0.        ,  0.        ,  0.        , 91.84568164]])"
      ]
     },
     "execution_count": 191,
     "metadata": {},
     "output_type": "execute_result"
    }
   ],
   "source": [
    "loc_idxs = tfidf_res_df.loc_idxs.to_list()\n",
    "rating_idxs = tfidf_res_df.rating_idxs.to_list() \n",
    "\n",
    "heat_map_scores = np.zeros(shape=(len(loc_idxs), len(rating_idxs)))\n",
    "print(heat_map_scores.shape)\n",
    "for idx1, i in enumerate(loc_idxs):\n",
    "    for idx2, j in enumerate(rating_idxs):\n",
    "        heat_map_scores[idx1][idx2] = tfidf_sim[i][j]\n",
    "heat_map_scores   "
   ]
  },
  {
   "cell_type": "code",
   "execution_count": 192,
   "metadata": {},
   "outputs": [
    {
     "data": {
      "image/png": "[encoded data removed]",
      "text/plain": [
       "<Figure size 1440x1440 with 1 Axes>"
      ]
     },
     "metadata": {
      "needs_background": "light"
     },
     "output_type": "display_data"
    },
    {
     "data": {
      "text/plain": [
       "<Figure size 432x288 with 0 Axes>"
      ]
     },
     "metadata": {},
     "output_type": "display_data"
    }
   ],
   "source": [
    "loc = loc_df.name_clean.iloc[loc_idxs].to_list()\n",
    "rating = rating_df.name_clean.iloc[rating_idxs].to_list() \n",
    "\n",
    "tfidf_array = heat_map_scores.round(2) #[:10, :10]\n",
    "\n",
    "\n",
    "fig, ax = plt.subplots()\n",
    "im = ax.imshow(tfidf_array, )\n",
    "\n",
    "# We want to show all ticks...\n",
    "ax.set_xticks(np.arange(len(rating)))\n",
    "ax.set_yticks(np.arange(len(loc)))\n",
    "# ... and label them with the respective list entries\n",
    "ax.set_xticklabels(rating, fontsize=14)\n",
    "ax.set_yticklabels(loc, fontsize=14)\n",
    "\n",
    "# Rotate the tick labels and set their alignment.\n",
    "plt.setp(ax.get_xticklabels(), rotation=45, ha=\"right\",\n",
    "         rotation_mode=\"anchor\")\n",
    "\n",
    "# Loop over data dimensions and create text annotations.\n",
    "for i in range(len(loc)):\n",
    "    for j in range(len(rating)):\n",
    "        text = ax.text(j, i, tfidf_array[i, j],\n",
    "                       ha=\"center\", va=\"center\", color=\"w\", fontsize=16)\n",
    "\n",
    "ax.set_title(\"HeatMap for tfidf & cosing similarity\")\n",
    "fig.tight_layout()\n",
    "fig.set_size_inches(20, 20)\n",
    "plt.show() \n",
    "plt.savefig(fname='heatmap.png')"
   ]
  },
  {
   "cell_type": "code",
   "execution_count": 213,
   "metadata": {},
   "outputs": [
    {
     "ename": "SyntaxError",
     "evalue": "invalid syntax (<ipython-input-213-cafe3d831250>, line 26)",
     "output_type": "error",
     "traceback": [
      "\u001b[1;36m  File \u001b[1;32m\"<ipython-input-213-cafe3d831250>\"\u001b[1;36m, line \u001b[1;32m26\u001b[0m\n\u001b[1;33m    ax = plt.gca()/\u001b[0m\n\u001b[1;37m                   ^\u001b[0m\n\u001b[1;31mSyntaxError\u001b[0m\u001b[1;31m:\u001b[0m invalid syntax\n"
     ]
    }
   ],
   "source": [
    "def heatmap(data, row_labels, col_labels, ax=None,\n",
    "            cbar_kw={}, cbarlabel=\"\", **kwargs):\n",
    "    \"\"\"\n",
    "    Create a heatmap from a numpy array and two lists of labels.\n",
    "\n",
    "    Parameters\n",
    "    ----------\n",
    "    data\n",
    "        A 2D numpy array of shape (N, M).\n",
    "    row_labels\n",
    "        A list or array of length N with the labels for the rows.\n",
    "    col_labels\n",
    "        A list or array of length M with the labels for the columns.\n",
    "    ax\n",
    "        A `matplotlib.axes.Axes` instance to which the heatmap is plotted.  If\n",
    "        not provided, use current axes or create a new one.  Optional.\n",
    "    cbar_kw\n",
    "        A dictionary with arguments to `matplotlib.Figure.colorbar`.  Optional.\n",
    "    cbarlabel\n",
    "        The label for the colorbar.  Optional.\n",
    "    **kwargs\n",
    "        All other arguments are forwarded to `imshow`.\n",
    "    \"\"\"\n",
    "\n",
    "    if not ax:\n",
    "        ax = plt.gca()\n",
    "\n",
    "    # Plot the heatmap\n",
    "    im = ax.imshow(data, **kwargs)\n",
    "\n",
    "    # Create colorbar\n",
    "    cbar = ax.figure.colorbar(im, ax=ax, **cbar_kw)\n",
    "    cbar.ax.set_ylabel(cbarlabel, rotation=-90, va=\"bottom\")\n",
    "\n",
    "    # We want to show all ticks...\n",
    "    ax.set_xticks(np.arange(data.shape[1]))\n",
    "    ax.set_yticks(np.arange(data.shape[0]))\n",
    "    # ... and label them with the respective list entries.\n",
    "    ax.set_xticklabels(col_labels, fontsize=16)\n",
    "    ax.set_yticklabels(row_labels, fontsize=16)\n",
    "\n",
    "    # Let the horizontal axes labeling appear on top.\n",
    "    ax.tick_params(top=True, bottom=False,\n",
    "                   labeltop=True, labelbottom=False)\n",
    "\n",
    "    # Rotate the tick labels and set their alignment.\n",
    "    plt.setp(ax.get_xticklabels(), rotation=-30, ha=\"right\",\n",
    "             rotation_mode=\"anchor\")\n",
    "\n",
    "    # Turn spines off and create white grid.\n",
    "    for edge, spine in ax.spines.items():\n",
    "        spine.set_visible(False)\n",
    "\n",
    "    ax.set_xticks(np.arange(data.shape[1]+1)-.5, minor=True)\n",
    "    ax.set_yticks(np.arange(data.shape[0]+1)-.5, minor=True)\n",
    "    ax.grid(which=\"minor\", color=\"w\", linestyle='-', linewidth=3)\n",
    "    ax.tick_params(which=\"minor\", bottom=False, left=False)\n",
    "\n",
    "    return im, cbar\n",
    "\n",
    "\n",
    "def annotate_heatmap(im, data=None, valfmt=\"{x:.2f}\",\n",
    "                     textcolors=[\"black\", \"white\"],\n",
    "                     threshold=None, **textkw):\n",
    "    \"\"\"\n",
    "    A function to annotate a heatmap.\n",
    "\n",
    "    Parameters\n",
    "    ----------\n",
    "    im\n",
    "        The AxesImage to be labeled.\n",
    "    data\n",
    "        Data used to annotate.  If None, the image's data is used.  Optional.\n",
    "    valfmt\n",
    "        The format of the annotations inside the heatmap.  This should either\n",
    "        use the string format method, e.g. \"$ {x:.2f}\", or be a\n",
    "        `matplotlib.ticker.Formatter`.  Optional.\n",
    "    textcolors\n",
    "        A list or array of two color specifications.  The first is used for\n",
    "        values below a threshold, the second for those above.  Optional.\n",
    "    threshold\n",
    "        Value in data units according to which the colors from textcolors are\n",
    "        applied.  If None (the default) uses the middle of the colormap as\n",
    "        separation.  Optional.\n",
    "    **kwargs\n",
    "        All other arguments are forwarded to each call to `text` used to create\n",
    "        the text labels.\n",
    "    \"\"\"\n",
    "\n",
    "    if not isinstance(data, (list, np.ndarray)):\n",
    "        data = im.get_array()\n",
    "\n",
    "    # Normalize the threshold to the images color range.\n",
    "    if threshold is not None:\n",
    "        threshold = im.norm(threshold)\n",
    "    else:\n",
    "        threshold = im.norm(data.max())/2.\n",
    "\n",
    "    # Set default alignment to center, but allow it to be\n",
    "    # overwritten by textkw.\n",
    "    kw = dict(horizontalalignment=\"center\",\n",
    "              verticalalignment=\"center\")\n",
    "    kw.update(textkw)\n",
    "\n",
    "    # Get the formatter in case a string is supplied\n",
    "    if isinstance(valfmt, str):\n",
    "        valfmt = matplotlib.ticker.StrMethodFormatter(valfmt)\n",
    "\n",
    "    # Loop over the data and create a `Text` for each \"pixel\".\n",
    "    # Change the text's color depending on the data.\n",
    "    texts = []\n",
    "    for i in range(data.shape[0]):\n",
    "        for j in range(data.shape[1]):\n",
    "            kw.update(color=textcolors[int(im.norm(data[i, j]) > threshold)])\n",
    "            text = im.axes.text(j, i, valfmt(data[i, j], None), **kw, fontsize=18)\n",
    "            texts.append(text)\n",
    "\n",
    "    return texts"
   ]
  },
  {
   "cell_type": "code",
   "execution_count": 214,
   "metadata": {},
   "outputs": [
    {
     "data": {
      "image/png": "[encoded data removed]",
      "text/plain": [
       "<Figure size 1440x1440 with 2 Axes>"
      ]
     },
     "metadata": {
      "needs_background": "light"
     },
     "output_type": "display_data"
    }
   ],
   "source": [
    "fig, ax = plt.subplots()\n",
    "\n",
    "im, cbar = heatmap(tfidf_array, loc, rating, ax=ax,\n",
    "                   cmap=\"YlGn\", cbarlabel=\"harvest [t/year]\")\n",
    "texts = annotate_heatmap(im, valfmt=\"{x:.1f} \")\n",
    "\n",
    "fig.tight_layout()\n",
    "fig.set_size_inches(20, 20)\n",
    "plt.show()"
   ]
  },
  {
   "cell_type": "markdown",
   "metadata": {},
   "source": [
    "# difflib sequenceMatcher similarity"
   ]
  },
  {
   "cell_type": "code",
   "execution_count": 15,
   "metadata": {},
   "outputs": [],
   "source": [
    "class difflib_sequenceMatcher(Similarity):\n",
    "    def single_similarity(self, text1, text2) -> float:\n",
    "        return SequenceMatcher(None, text1, text2).ratio() "
   ]
  },
  {
   "cell_type": "code",
   "execution_count": 16,
   "metadata": {},
   "outputs": [
    {
     "data": {
      "text/plain": [
       "1.0"
      ]
     },
     "execution_count": 16,
     "metadata": {},
     "output_type": "execute_result"
    }
   ],
   "source": [
    "difflib_similarity = difflib_sequenceMatcher()\n",
    "difflib_sim = difflib_similarity.similarity(loc_df.name_clean, rating_df.name_clean)\n",
    "difflib_sim = difflib_sim * 100 "
   ]
  },
  {
   "cell_type": "markdown",
   "metadata": {},
   "source": [
    "# fuzz similarity "
   ]
  },
  {
   "cell_type": "code",
   "execution_count": 17,
   "metadata": {},
   "outputs": [],
   "source": [
    "class fuzzSimilarity(Similarity):\n",
    "    def single_similarity(self, text1, text2) -> float:\n",
    "        s1 = fuzz.token_set_ratio(text1, text2) + 0.000000000001\n",
    "        s2 = fuzz.partial_ratio(text1, text2) + 0.000000000001\n",
    "        return 2*s1*s2 / (s1+s2)"
   ]
  },
  {
   "cell_type": "code",
   "execution_count": 18,
   "metadata": {},
   "outputs": [
    {
     "data": {
      "text/plain": [
       "100.000000000001"
      ]
     },
     "execution_count": 18,
     "metadata": {},
     "output_type": "execute_result"
    }
   ],
   "source": [
    "fuzz_similarity = fuzzSimilarity()\n",
    "fuzz_sim = fuzz_similarity.similarity(loc_df.name_clean, rating_df.name_clean)\n",
    "fuzz_sim.max()"
   ]
  },
  {
   "cell_type": "markdown",
   "metadata": {},
   "source": [
    "# wmd"
   ]
  },
  {
   "cell_type": "code",
   "execution_count": 7,
   "metadata": {},
   "outputs": [],
   "source": [
    "logging.basicConfig(format='%(asctime)s : %(levelname)s : %(message)s', level=logging.INFO)\n",
    "\n",
    "\n",
    "class WMDSimilarity(Similarity):\n",
    "    def __init__(self, path):\n",
    "        self.model = api.load(path)\n",
    "        download('stopwords')  # Download stopwords list.\n",
    "        self.stop_words = stopwords.words('english')\n",
    "        \n",
    "    def single_similarity(self, text1, text2) -> float:\n",
    "        text1 = [w for w in text1.split() if w not in self.stop_words]\n",
    "        text2 = [w for w in text2.split() if w not in self.stop_words]\n",
    "        return self.model.wmdistance(text1, text2)"
   ]
  },
  {
   "cell_type": "code",
   "execution_count": null,
   "metadata": {},
   "outputs": [],
   "source": [
    "WMD_similarity = WMDSimilarity('word2vec-google-news-300')\n",
    "WMD_sim = WMD_similarity.similarity(loc_df.name_clean, rating_df.name_clean)\n",
    "# WMD_sim = WMD_sim * 100 "
   ]
  },
  {
   "cell_type": "code",
   "execution_count": 52,
   "metadata": {},
   "outputs": [
    {
     "name": "stdout",
     "output_type": "stream",
     "text": [
      "[[3.62720937 3.63210605 3.40152698 ... 4.29350613 3.64186834 3.56554277]\n",
      " [3.88706532 3.81934316 3.87214337 ... 4.60459798 3.85758903 3.95710408]\n",
      " [4.07020182 4.08179004 4.160716   ... 1.9446218  4.0802799  3.86596785]\n",
      " ...\n",
      " [2.78502895 3.91806414 3.85363462 ... 4.42044687 3.68473934 3.65420797]\n",
      " [2.38662472 3.61088371 4.00876352 ... 4.66743193 3.91289412 4.1179045 ]\n",
      " [3.03743592 3.21784404 4.26908209 ... 4.65148439 4.19434736 4.28736437]]\n"
     ]
    }
   ],
   "source": [
    "print(WMD_sim)"
   ]
  },
  {
   "cell_type": "code",
   "execution_count": 53,
   "metadata": {},
   "outputs": [
    {
     "data": {
      "text/plain": [
       "5.958060264587402"
      ]
     },
     "execution_count": 53,
     "metadata": {},
     "output_type": "execute_result"
    }
   ],
   "source": [
    "WMD_sim[WMD_sim == np.inf] = -1\n",
    "WMD_sim.max()"
   ]
  },
  {
   "cell_type": "code",
   "execution_count": 34,
   "metadata": {},
   "outputs": [
    {
     "data": {
      "text/plain": [
       "array([[ 0.,  0.,  0., ..., inf, inf, inf],\n",
       "       [ 0.,  0.,  0., ..., inf, inf, inf],\n",
       "       [ 0.,  0.,  0., ..., inf, inf, inf],\n",
       "       ...,\n",
       "       [inf, inf, inf, ..., inf, inf, inf],\n",
       "       [inf, inf, inf, ..., inf, inf, inf],\n",
       "       [inf, inf, inf, ..., inf, inf, inf]])"
      ]
     },
     "execution_count": 34,
     "metadata": {},
     "output_type": "execute_result"
    }
   ],
   "source": [
    "WMD_sim.sort(axis=0)\n",
    "WMD_sim"
   ]
  },
  {
   "cell_type": "markdown",
   "metadata": {},
   "source": [
    "Code for creating similarity graph "
   ]
  },
  {
   "cell_type": "code",
   "execution_count": 25,
   "metadata": {},
   "outputs": [],
   "source": [
    "def display_closestwords_tsnescatterplot(model, word):\n",
    "    \n",
    "    arr = np.empty((0,100), dtype='f')\n",
    "    word_labels = [word]\n",
    "\n",
    "    # get close words\n",
    "    close_words = model.similar_by_word(word)\n",
    "    \n",
    "    # add the vector for each of the closest words to the array\n",
    "    arr = np.append(arr, np.array([model[word]]), axis=0)\n",
    "    for wrd_score in close_words:\n",
    "        wrd_vector = model[wrd_score[0]]\n",
    "        word_labels.append(wrd_score[0])\n",
    "        arr = np.append(arr, np.array([wrd_vector]), axis=0)\n",
    "        \n",
    "    # find tsne coords for 2 dimensions\n",
    "    tsne = TSNE(n_components=2, random_state=0)\n",
    "    np.set_printoptions(suppress=True)\n",
    "    Y = tsne.fit_transform(arr)\n",
    "\n",
    "    x_coords = Y[:, 0]\n",
    "    y_coords = Y[:, 1]\n",
    "    # display scatter plot\n",
    "    plt.scatter(x_coords, y_coords)\n",
    "\n",
    "    for label, x, y in zip(word_labels, x_coords, y_coords):\n",
    "        plt.annotate(label, xy=(x, y), xytext=(0, 0), textcoords='offset points')\n",
    "    plt.xlim(x_coords.min()+0.00005, x_coords.max()+0.00005)\n",
    "    plt.ylim(y_coords.min()+0.00005, y_coords.max()+0.00005)\n",
    "    plt.show()\n",
    "    \n",
    "# display_closestwords_tsnescatterplot(WMD_similarity.model, word=loc_df.name_clean[10])"
   ]
  },
  {
   "cell_type": "code",
   "execution_count": null,
   "metadata": {},
   "outputs": [],
   "source": [
    "sentences = []\n",
    "for df in [loc_df.name_clean, rating_df.name_clean]:\n",
    "    for name in df:\n",
    "        sent = []\n",
    "        for word in name.split():\n",
    "            sent.append(word)\n",
    "        sentences.append(sent)\n",
    "\n",
    "\n",
    "bigram_transformer = Phrases(sentences)\n",
    "# # Apply the trained MWE detector to a corpus, using the result to train a Word2vec model.\n",
    "model = Word2Vec(bigram_transformer[sentences], min_count=1, size=100)\n",
    "\n",
    "\n",
    "display_closestwords_tsnescatterplot(model, 'sculpture') #loc_df.name_clean[10].split()[1])\n",
    "display_closestwords_tsnescatterplot(model, 'st')\n",
    "display_closestwords_tsnescatterplot(model, 'catedral')"
   ]
  },
  {
   "cell_type": "markdown",
   "metadata": {},
   "source": [
    "# aggregate similarities"
   ]
  },
  {
   "cell_type": "code",
   "execution_count": 50,
   "metadata": {},
   "outputs": [],
   "source": [
    "all_sims = np.stack([exact_sim, tfidf_sim, difflib_sim, fuzz_sim]) #, WMD_sim])"
   ]
  },
  {
   "cell_type": "code",
   "execution_count": 51,
   "metadata": {},
   "outputs": [],
   "source": [
    "all_sims_max = all_sims.max(axis=0)"
   ]
  },
  {
   "cell_type": "code",
   "execution_count": 52,
   "metadata": {},
   "outputs": [
    {
     "data": {
      "text/plain": [
       "(4, 564, 638)"
      ]
     },
     "execution_count": 52,
     "metadata": {},
     "output_type": "execute_result"
    }
   ],
   "source": [
    "all_sims.shape"
   ]
  },
  {
   "cell_type": "code",
   "execution_count": 53,
   "metadata": {},
   "outputs": [
    {
     "data": {
      "text/plain": [
       "100.000000000001"
      ]
     },
     "execution_count": 53,
     "metadata": {},
     "output_type": "execute_result"
    }
   ],
   "source": [
    "all_sims_max.max() #sanety check "
   ]
  },
  {
   "cell_type": "code",
   "execution_count": 54,
   "metadata": {},
   "outputs": [
    {
     "data": {
      "text/plain": [
       "(564, 638)"
      ]
     },
     "execution_count": 54,
     "metadata": {},
     "output_type": "execute_result"
    }
   ],
   "source": [
    "all_sims_max.shape"
   ]
  },
  {
   "cell_type": "markdown",
   "metadata": {},
   "source": [
    "# matching"
   ]
  },
  {
   "cell_type": "code",
   "execution_count": 88,
   "metadata": {},
   "outputs": [],
   "source": [
    "def match_i_j_greedy(similarity):\n",
    "    max_j_for_i = similarity.argmax(axis=1)\n",
    "    max_i_for_j = defaultdict()\n",
    "\n",
    "    for i, j in enumerate(max_j_for_i):\n",
    "        if j not in max_i_for_j:\n",
    "            max_i_for_j[j] = i\n",
    "        else:\n",
    "            current_sim = similarity[max_i_for_j[j], j]\n",
    "            if current_sim < similarity[i, j]:\n",
    "                max_i_for_j[j] = i\n",
    "                \n",
    "    return max_i_for_j"
   ]
  },
  {
   "cell_type": "code",
   "execution_count": 56,
   "metadata": {},
   "outputs": [],
   "source": [
    "max_i_for_j = match_i_j_greedy(all_sims_max)"
   ]
  },
  {
   "cell_type": "code",
   "execution_count": 73,
   "metadata": {},
   "outputs": [
    {
     "name": "stdout",
     "output_type": "stream",
     "text": [
      "286\n"
     ]
    }
   ],
   "source": [
    "loc_names = []\n",
    "rating_names = []\n",
    "scores = []\n",
    "\n",
    "for j, i in max_i_for_j.items():\n",
    "#     if all_sims_max[i,j] > 0.7:\n",
    "    loc_names.append(loc_df.iloc[i].name_clean)\n",
    "    rating_names.append(rating_df.iloc[j].name_clean)\n",
    "    scores.append(all_sims_max[i,j])\n",
    "\n",
    "agg_res_df = pd.DataFrame(list(zip(rating_names, loc_names, scores)), columns =['agg_rating_name', 'agg_loc_name', 'agg_score'])\n",
    "# agg_res_df = agg_res_df[agg_res_df.agg_score > 70]\n",
    "print(len(agg_res_df))"
   ]
  },
  {
   "cell_type": "markdown",
   "metadata": {},
   "source": [
    "## take exact mathces "
   ]
  },
  {
   "cell_type": "code",
   "execution_count": 74,
   "metadata": {},
   "outputs": [
    {
     "name": "stdout",
     "output_type": "stream",
     "text": [
      "124\n"
     ]
    },
    {
     "data": {
      "text/html": [
       "<div>\n",
       "<style scoped>\n",
       "    .dataframe tbody tr th:only-of-type {\n",
       "        vertical-align: middle;\n",
       "    }\n",
       "\n",
       "    .dataframe tbody tr th {\n",
       "        vertical-align: top;\n",
       "    }\n",
       "\n",
       "    .dataframe thead th {\n",
       "        text-align: right;\n",
       "    }\n",
       "</style>\n",
       "<table border=\"1\" class=\"dataframe\">\n",
       "  <thead>\n",
       "    <tr style=\"text-align: right;\">\n",
       "      <th></th>\n",
       "      <th>agg_rating_name</th>\n",
       "      <th>agg_loc_name</th>\n",
       "      <th>agg_score</th>\n",
       "    </tr>\n",
       "  </thead>\n",
       "  <tbody>\n",
       "    <tr>\n",
       "      <th>0</th>\n",
       "      <td>racing tours ireland</td>\n",
       "      <td>racing tours ireland</td>\n",
       "      <td>100.0</td>\n",
       "    </tr>\n",
       "    <tr>\n",
       "      <th>166</th>\n",
       "      <td>patrick kavanagh statue</td>\n",
       "      <td>patrick kavanagh</td>\n",
       "      <td>100.0</td>\n",
       "    </tr>\n",
       "    <tr>\n",
       "      <th>165</th>\n",
       "      <td>monument oscar wilde</td>\n",
       "      <td>oscar wilde</td>\n",
       "      <td>100.0</td>\n",
       "    </tr>\n",
       "    <tr>\n",
       "      <th>164</th>\n",
       "      <td>molly malone statue</td>\n",
       "      <td>molly malone</td>\n",
       "      <td>100.0</td>\n",
       "    </tr>\n",
       "    <tr>\n",
       "      <th>162</th>\n",
       "      <td>james joyce statue</td>\n",
       "      <td>james joyce</td>\n",
       "      <td>100.0</td>\n",
       "    </tr>\n",
       "    <tr>\n",
       "      <th>...</th>\n",
       "      <td>...</td>\n",
       "      <td>...</td>\n",
       "      <td>...</td>\n",
       "    </tr>\n",
       "    <tr>\n",
       "      <th>54</th>\n",
       "      <td>spire</td>\n",
       "      <td>spire</td>\n",
       "      <td>100.0</td>\n",
       "    </tr>\n",
       "    <tr>\n",
       "      <th>52</th>\n",
       "      <td>temple bar</td>\n",
       "      <td>temple bar cultural trust temple bar cultural ...</td>\n",
       "      <td>100.0</td>\n",
       "    </tr>\n",
       "    <tr>\n",
       "      <th>49</th>\n",
       "      <td>st patrick cathedral</td>\n",
       "      <td>st patrick cathedral</td>\n",
       "      <td>100.0</td>\n",
       "    </tr>\n",
       "    <tr>\n",
       "      <th>65</th>\n",
       "      <td>st mary pro cathedral</td>\n",
       "      <td>st mary pro cathedral</td>\n",
       "      <td>100.0</td>\n",
       "    </tr>\n",
       "    <tr>\n",
       "      <th>282</th>\n",
       "      <td>george salmon statue</td>\n",
       "      <td>george salmon</td>\n",
       "      <td>100.0</td>\n",
       "    </tr>\n",
       "  </tbody>\n",
       "</table>\n",
       "<p>124 rows × 3 columns</p>\n",
       "</div>"
      ],
      "text/plain": [
       "             agg_rating_name  \\\n",
       "0       racing tours ireland   \n",
       "166  patrick kavanagh statue   \n",
       "165     monument oscar wilde   \n",
       "164      molly malone statue   \n",
       "162       james joyce statue   \n",
       "..                       ...   \n",
       "54                     spire   \n",
       "52                temple bar   \n",
       "49      st patrick cathedral   \n",
       "65     st mary pro cathedral   \n",
       "282     george salmon statue   \n",
       "\n",
       "                                          agg_loc_name  agg_score  \n",
       "0                                 racing tours ireland      100.0  \n",
       "166                                   patrick kavanagh      100.0  \n",
       "165                                        oscar wilde      100.0  \n",
       "164                                       molly malone      100.0  \n",
       "162                                        james joyce      100.0  \n",
       "..                                                 ...        ...  \n",
       "54                                               spire      100.0  \n",
       "52   temple bar cultural trust temple bar cultural ...      100.0  \n",
       "49                                st patrick cathedral      100.0  \n",
       "65                               st mary pro cathedral      100.0  \n",
       "282                                      george salmon      100.0  \n",
       "\n",
       "[124 rows x 3 columns]"
      ]
     },
     "execution_count": 74,
     "metadata": {},
     "output_type": "execute_result"
    }
   ],
   "source": [
    "agg_res_df_100 = agg_res_df[agg_res_df.agg_score >99]\n",
    "print(len(agg_res_df_100))\n",
    "agg_res_df_100.sort_values('agg_score') "
   ]
  },
  {
   "cell_type": "markdown",
   "metadata": {},
   "source": [
    "## hand-choose from 70%-99% mathces "
   ]
  },
  {
   "cell_type": "code",
   "execution_count": 81,
   "metadata": {},
   "outputs": [
    {
     "name": "stdout",
     "output_type": "stream",
     "text": [
      "before removing mistakes: 55\n",
      "after removing mistakes: 26\n"
     ]
    },
    {
     "data": {
      "text/html": [
       "<div>\n",
       "<style scoped>\n",
       "    .dataframe tbody tr th:only-of-type {\n",
       "        vertical-align: middle;\n",
       "    }\n",
       "\n",
       "    .dataframe tbody tr th {\n",
       "        vertical-align: top;\n",
       "    }\n",
       "\n",
       "    .dataframe thead th {\n",
       "        text-align: right;\n",
       "    }\n",
       "</style>\n",
       "<table border=\"1\" class=\"dataframe\">\n",
       "  <thead>\n",
       "    <tr style=\"text-align: right;\">\n",
       "      <th></th>\n",
       "      <th>agg_rating_name</th>\n",
       "      <th>agg_loc_name</th>\n",
       "      <th>agg_score</th>\n",
       "    </tr>\n",
       "  </thead>\n",
       "  <tbody>\n",
       "    <tr>\n",
       "      <th>33</th>\n",
       "      <td>james joyce bust</td>\n",
       "      <td>james joyce museum</td>\n",
       "      <td>84.894118</td>\n",
       "    </tr>\n",
       "    <tr>\n",
       "      <th>50</th>\n",
       "      <td>steine</td>\n",
       "      <td>stena line</td>\n",
       "      <td>75.000000</td>\n",
       "    </tr>\n",
       "    <tr>\n",
       "      <th>53</th>\n",
       "      <td>ambassador event centre</td>\n",
       "      <td>ambassador theatre</td>\n",
       "      <td>78.048780</td>\n",
       "    </tr>\n",
       "    <tr>\n",
       "      <th>74</th>\n",
       "      <td>blessington st park basin</td>\n",
       "      <td>blessington st basin dublin secret garden</td>\n",
       "      <td>84.260355</td>\n",
       "    </tr>\n",
       "    <tr>\n",
       "      <th>90</th>\n",
       "      <td>blanchardstown centre</td>\n",
       "      <td>leisureplex blanchardstown</td>\n",
       "      <td>80.000000</td>\n",
       "    </tr>\n",
       "    <tr>\n",
       "      <th>96</th>\n",
       "      <td>griffith bridge</td>\n",
       "      <td>griffith park</td>\n",
       "      <td>76.496732</td>\n",
       "    </tr>\n",
       "    <tr>\n",
       "      <th>107</th>\n",
       "      <td>seapoint beach</td>\n",
       "      <td>seapoint blue flag beach 2019</td>\n",
       "      <td>88.268156</td>\n",
       "    </tr>\n",
       "    <tr>\n",
       "      <th>112</th>\n",
       "      <td>dun laoghaire rathdown library</td>\n",
       "      <td>dun laoghaire rathdown heritage society</td>\n",
       "      <td>83.988095</td>\n",
       "    </tr>\n",
       "    <tr>\n",
       "      <th>115</th>\n",
       "      <td>king inns</td>\n",
       "      <td>kings inns</td>\n",
       "      <td>94.736842</td>\n",
       "    </tr>\n",
       "    <tr>\n",
       "      <th>120</th>\n",
       "      <td>rathmichael church</td>\n",
       "      <td>rathmichael lodge</td>\n",
       "      <td>74.786667</td>\n",
       "    </tr>\n",
       "    <tr>\n",
       "      <th>127</th>\n",
       "      <td>victorian chapel</td>\n",
       "      <td>ardgillan castle victorian gardens</td>\n",
       "      <td>73.469388</td>\n",
       "    </tr>\n",
       "    <tr>\n",
       "      <th>129</th>\n",
       "      <td>freemason hall</td>\n",
       "      <td>freemasons hall</td>\n",
       "      <td>96.551724</td>\n",
       "    </tr>\n",
       "    <tr>\n",
       "      <th>138</th>\n",
       "      <td>charles parnell monument</td>\n",
       "      <td>charles stewart parnell</td>\n",
       "      <td>71.319444</td>\n",
       "    </tr>\n",
       "    <tr>\n",
       "      <th>142</th>\n",
       "      <td>jim larkin statue</td>\n",
       "      <td>james larkin</td>\n",
       "      <td>71.875000</td>\n",
       "    </tr>\n",
       "    <tr>\n",
       "      <th>144</th>\n",
       "      <td>sphere within sphere</td>\n",
       "      <td>sphere sphere</td>\n",
       "      <td>82.533103</td>\n",
       "    </tr>\n",
       "    <tr>\n",
       "      <th>145</th>\n",
       "      <td>william smith brien statue</td>\n",
       "      <td>william smith brien monument</td>\n",
       "      <td>84.497041</td>\n",
       "    </tr>\n",
       "    <tr>\n",
       "      <th>152</th>\n",
       "      <td>st kevins park</td>\n",
       "      <td>st kevin oratory</td>\n",
       "      <td>71.986111</td>\n",
       "    </tr>\n",
       "    <tr>\n",
       "      <th>156</th>\n",
       "      <td>ha penny flea market</td>\n",
       "      <td>ha penny laugh</td>\n",
       "      <td>75.881579</td>\n",
       "    </tr>\n",
       "    <tr>\n",
       "      <th>198</th>\n",
       "      <td>william butler yeats memorial</td>\n",
       "      <td>yeats life works william butler yeats</td>\n",
       "      <td>82.000000</td>\n",
       "    </tr>\n",
       "    <tr>\n",
       "      <th>221</th>\n",
       "      <td>island bridge</td>\n",
       "      <td>island ferries</td>\n",
       "      <td>75.470199</td>\n",
       "    </tr>\n",
       "    <tr>\n",
       "      <th>226</th>\n",
       "      <td>tourist office dublin</td>\n",
       "      <td>dun laoghaire community tourist office</td>\n",
       "      <td>72.925170</td>\n",
       "    </tr>\n",
       "    <tr>\n",
       "      <th>241</th>\n",
       "      <td>séamus ennis arts centre</td>\n",
       "      <td>seamus ennis arts centre</td>\n",
       "      <td>96.989691</td>\n",
       "    </tr>\n",
       "    <tr>\n",
       "      <th>249</th>\n",
       "      <td>powerscourt house</td>\n",
       "      <td>powerscourt theatre</td>\n",
       "      <td>80.472050</td>\n",
       "    </tr>\n",
       "    <tr>\n",
       "      <th>262</th>\n",
       "      <td>gormleys fine art</td>\n",
       "      <td>gormley fine art</td>\n",
       "      <td>96.969697</td>\n",
       "    </tr>\n",
       "    <tr>\n",
       "      <th>268</th>\n",
       "      <td>revolution 1916</td>\n",
       "      <td>1916 ride revolution rise rebels bus tour hidd...</td>\n",
       "      <td>84.393064</td>\n",
       "    </tr>\n",
       "    <tr>\n",
       "      <th>285</th>\n",
       "      <td>roe co distillery</td>\n",
       "      <td>roe co whiskey distillery</td>\n",
       "      <td>83.040936</td>\n",
       "    </tr>\n",
       "  </tbody>\n",
       "</table>\n",
       "</div>"
      ],
      "text/plain": [
       "                    agg_rating_name  \\\n",
       "33                 james joyce bust   \n",
       "50                           steine   \n",
       "53          ambassador event centre   \n",
       "74        blessington st park basin   \n",
       "90            blanchardstown centre   \n",
       "96                  griffith bridge   \n",
       "107                  seapoint beach   \n",
       "112  dun laoghaire rathdown library   \n",
       "115                       king inns   \n",
       "120              rathmichael church   \n",
       "127                victorian chapel   \n",
       "129                  freemason hall   \n",
       "138        charles parnell monument   \n",
       "142               jim larkin statue   \n",
       "144            sphere within sphere   \n",
       "145      william smith brien statue   \n",
       "152                  st kevins park   \n",
       "156            ha penny flea market   \n",
       "198   william butler yeats memorial   \n",
       "221                   island bridge   \n",
       "226           tourist office dublin   \n",
       "241        séamus ennis arts centre   \n",
       "249               powerscourt house   \n",
       "262               gormleys fine art   \n",
       "268                 revolution 1916   \n",
       "285               roe co distillery   \n",
       "\n",
       "                                          agg_loc_name  agg_score  \n",
       "33                                  james joyce museum  84.894118  \n",
       "50                                          stena line  75.000000  \n",
       "53                                  ambassador theatre  78.048780  \n",
       "74           blessington st basin dublin secret garden  84.260355  \n",
       "90                          leisureplex blanchardstown  80.000000  \n",
       "96                                       griffith park  76.496732  \n",
       "107                      seapoint blue flag beach 2019  88.268156  \n",
       "112            dun laoghaire rathdown heritage society  83.988095  \n",
       "115                                         kings inns  94.736842  \n",
       "120                                  rathmichael lodge  74.786667  \n",
       "127                 ardgillan castle victorian gardens  73.469388  \n",
       "129                                    freemasons hall  96.551724  \n",
       "138                            charles stewart parnell  71.319444  \n",
       "142                                       james larkin  71.875000  \n",
       "144                                      sphere sphere  82.533103  \n",
       "145                       william smith brien monument  84.497041  \n",
       "152                                   st kevin oratory  71.986111  \n",
       "156                                     ha penny laugh  75.881579  \n",
       "198              yeats life works william butler yeats  82.000000  \n",
       "221                                     island ferries  75.470199  \n",
       "226             dun laoghaire community tourist office  72.925170  \n",
       "241                           seamus ennis arts centre  96.989691  \n",
       "249                                powerscourt theatre  80.472050  \n",
       "262                                   gormley fine art  96.969697  \n",
       "268  1916 ride revolution rise rebels bus tour hidd...  84.393064  \n",
       "285                          roe co whiskey distillery  83.040936  "
      ]
     },
     "execution_count": 81,
     "metadata": {},
     "output_type": "execute_result"
    }
   ],
   "source": [
    "agg_res_df_70_99 = agg_res_df[(agg_res_df.agg_score <99) & (agg_res_df.agg_score >70)]\n",
    "print('before removing mistakes:', len(agg_res_df_70_99))\n",
    "agg_res_df_70_99.sort_values('agg_score') \n",
    "\n",
    "agg_idxs_to_remove = [117, 197, 16, 181, 256, 169, 146, 73, 176, 113, 140, 191, 9, 186, 265, 97, 199, 14, 151, 245, 102, 182, 273, 218, 243, 105, 136, 184, 233]\n",
    "not_sure = [142, 152, 226, 127, 50, 96, 53, 249]\n",
    "agg_res_df_70_99 = agg_res_df_70_99.drop(index=agg_idxs_to_remove)\n",
    "print('after removing mistakes:', len(agg_res_df_70_99))\n",
    "agg_res_df_70_99"
   ]
  },
  {
   "cell_type": "markdown",
   "metadata": {},
   "source": [
    "# combine final result table "
   ]
  },
  {
   "cell_type": "code",
   "execution_count": 85,
   "metadata": {},
   "outputs": [
    {
     "data": {
      "text/html": [
       "<div>\n",
       "<style scoped>\n",
       "    .dataframe tbody tr th:only-of-type {\n",
       "        vertical-align: middle;\n",
       "    }\n",
       "\n",
       "    .dataframe tbody tr th {\n",
       "        vertical-align: top;\n",
       "    }\n",
       "\n",
       "    .dataframe thead th {\n",
       "        text-align: right;\n",
       "    }\n",
       "</style>\n",
       "<table border=\"1\" class=\"dataframe\">\n",
       "  <thead>\n",
       "    <tr style=\"text-align: right;\">\n",
       "      <th></th>\n",
       "      <th>rating_name</th>\n",
       "      <th>loc_name</th>\n",
       "      <th>agg_score</th>\n",
       "    </tr>\n",
       "  </thead>\n",
       "  <tbody>\n",
       "    <tr>\n",
       "      <th>0</th>\n",
       "      <td>racing tours ireland</td>\n",
       "      <td>racing tours ireland</td>\n",
       "      <td>100.000000</td>\n",
       "    </tr>\n",
       "    <tr>\n",
       "      <th>2</th>\n",
       "      <td>macau casino club dublin</td>\n",
       "      <td>macau casino club</td>\n",
       "      <td>100.000000</td>\n",
       "    </tr>\n",
       "    <tr>\n",
       "      <th>3</th>\n",
       "      <td>gallery photography</td>\n",
       "      <td>gallery photography</td>\n",
       "      <td>100.000000</td>\n",
       "    </tr>\n",
       "    <tr>\n",
       "      <th>4</th>\n",
       "      <td>vaults live</td>\n",
       "      <td>vaults live</td>\n",
       "      <td>100.000000</td>\n",
       "    </tr>\n",
       "    <tr>\n",
       "      <th>6</th>\n",
       "      <td>sandycove beach</td>\n",
       "      <td>sandycove beach</td>\n",
       "      <td>100.000000</td>\n",
       "    </tr>\n",
       "    <tr>\n",
       "      <th>...</th>\n",
       "      <td>...</td>\n",
       "      <td>...</td>\n",
       "      <td>...</td>\n",
       "    </tr>\n",
       "    <tr>\n",
       "      <th>241</th>\n",
       "      <td>séamus ennis arts centre</td>\n",
       "      <td>seamus ennis arts centre</td>\n",
       "      <td>96.989691</td>\n",
       "    </tr>\n",
       "    <tr>\n",
       "      <th>249</th>\n",
       "      <td>powerscourt house</td>\n",
       "      <td>powerscourt theatre</td>\n",
       "      <td>80.472050</td>\n",
       "    </tr>\n",
       "    <tr>\n",
       "      <th>262</th>\n",
       "      <td>gormleys fine art</td>\n",
       "      <td>gormley fine art</td>\n",
       "      <td>96.969697</td>\n",
       "    </tr>\n",
       "    <tr>\n",
       "      <th>268</th>\n",
       "      <td>revolution 1916</td>\n",
       "      <td>1916 ride revolution rise rebels bus tour hidd...</td>\n",
       "      <td>84.393064</td>\n",
       "    </tr>\n",
       "    <tr>\n",
       "      <th>285</th>\n",
       "      <td>roe co distillery</td>\n",
       "      <td>roe co whiskey distillery</td>\n",
       "      <td>83.040936</td>\n",
       "    </tr>\n",
       "  </tbody>\n",
       "</table>\n",
       "<p>150 rows × 3 columns</p>\n",
       "</div>"
      ],
      "text/plain": [
       "                  rating_name  \\\n",
       "0        racing tours ireland   \n",
       "2    macau casino club dublin   \n",
       "3         gallery photography   \n",
       "4                 vaults live   \n",
       "6             sandycove beach   \n",
       "..                        ...   \n",
       "241  séamus ennis arts centre   \n",
       "249         powerscourt house   \n",
       "262         gormleys fine art   \n",
       "268           revolution 1916   \n",
       "285         roe co distillery   \n",
       "\n",
       "                                              loc_name   agg_score  \n",
       "0                                 racing tours ireland  100.000000  \n",
       "2                                    macau casino club  100.000000  \n",
       "3                                  gallery photography  100.000000  \n",
       "4                                          vaults live  100.000000  \n",
       "6                                      sandycove beach  100.000000  \n",
       "..                                                 ...         ...  \n",
       "241                           seamus ennis arts centre   96.989691  \n",
       "249                                powerscourt theatre   80.472050  \n",
       "262                                   gormley fine art   96.969697  \n",
       "268  1916 ride revolution rise rebels bus tour hidd...   84.393064  \n",
       "285                          roe co whiskey distillery   83.040936  \n",
       "\n",
       "[150 rows x 3 columns]"
      ]
     },
     "execution_count": 85,
     "metadata": {},
     "output_type": "execute_result"
    }
   ],
   "source": [
    "matches_df = pd.concat([\n",
    "                        agg_res_df_100,\n",
    "                        agg_res_df_70_99\n",
    "                        ])\n",
    "matches_df = matches_df.rename(columns={'agg_loc_name': 'loc_name', 'agg_rating_name':'rating_name'})\n",
    "len(matches_df)\n",
    "matches_df"
   ]
  },
  {
   "cell_type": "code",
   "execution_count": 92,
   "metadata": {},
   "outputs": [
    {
     "data": {
      "text/html": [
       "<div>\n",
       "<style scoped>\n",
       "    .dataframe tbody tr th:only-of-type {\n",
       "        vertical-align: middle;\n",
       "    }\n",
       "\n",
       "    .dataframe tbody tr th {\n",
       "        vertical-align: top;\n",
       "    }\n",
       "\n",
       "    .dataframe thead th {\n",
       "        text-align: right;\n",
       "    }\n",
       "</style>\n",
       "<table border=\"1\" class=\"dataframe\">\n",
       "  <thead>\n",
       "    <tr style=\"text-align: right;\">\n",
       "      <th></th>\n",
       "      <th>Longitude</th>\n",
       "      <th>Latitude</th>\n",
       "      <th>loc_name</th>\n",
       "      <th>rating_name</th>\n",
       "      <th>agg_score</th>\n",
       "    </tr>\n",
       "  </thead>\n",
       "  <tbody>\n",
       "    <tr>\n",
       "      <th>0</th>\n",
       "      <td>-6.265696</td>\n",
       "      <td>53.341171</td>\n",
       "      <td>macau casino club</td>\n",
       "      <td>macau casino club dublin</td>\n",
       "      <td>100.000000</td>\n",
       "    </tr>\n",
       "    <tr>\n",
       "      <th>1</th>\n",
       "      <td>-6.137493</td>\n",
       "      <td>53.374989</td>\n",
       "      <td>bull island</td>\n",
       "      <td>bull island</td>\n",
       "      <td>100.000000</td>\n",
       "    </tr>\n",
       "    <tr>\n",
       "      <th>2</th>\n",
       "      <td>-6.267419</td>\n",
       "      <td>53.342900</td>\n",
       "      <td>dublin castle</td>\n",
       "      <td>dublin castle</td>\n",
       "      <td>100.000000</td>\n",
       "    </tr>\n",
       "    <tr>\n",
       "      <th>3</th>\n",
       "      <td>-6.267149</td>\n",
       "      <td>53.343922</td>\n",
       "      <td>dublin city hall</td>\n",
       "      <td>city hall</td>\n",
       "      <td>100.000000</td>\n",
       "    </tr>\n",
       "    <tr>\n",
       "      <th>4</th>\n",
       "      <td>-6.372209</td>\n",
       "      <td>53.288411</td>\n",
       "      <td>civic theatre</td>\n",
       "      <td>civic theatre</td>\n",
       "      <td>100.000000</td>\n",
       "    </tr>\n",
       "    <tr>\n",
       "      <th>...</th>\n",
       "      <td>...</td>\n",
       "      <td>...</td>\n",
       "      <td>...</td>\n",
       "      <td>...</td>\n",
       "      <td>...</td>\n",
       "    </tr>\n",
       "    <tr>\n",
       "      <th>145</th>\n",
       "      <td>-6.277493</td>\n",
       "      <td>53.343579</td>\n",
       "      <td>vaults live</td>\n",
       "      <td>vaults live</td>\n",
       "      <td>100.000000</td>\n",
       "    </tr>\n",
       "    <tr>\n",
       "      <th>146</th>\n",
       "      <td>-6.284198</td>\n",
       "      <td>53.343248</td>\n",
       "      <td>guinness storehouse</td>\n",
       "      <td>guinness storehouse</td>\n",
       "      <td>100.000000</td>\n",
       "    </tr>\n",
       "    <tr>\n",
       "      <th>147</th>\n",
       "      <td>-6.270211</td>\n",
       "      <td>53.352507</td>\n",
       "      <td>14 henrietta st</td>\n",
       "      <td>14 henrietta st</td>\n",
       "      <td>100.000000</td>\n",
       "    </tr>\n",
       "    <tr>\n",
       "      <th>148</th>\n",
       "      <td>-6.276364</td>\n",
       "      <td>53.337285</td>\n",
       "      <td>dublin liberties distillery</td>\n",
       "      <td>dublin liberties distillery</td>\n",
       "      <td>100.000000</td>\n",
       "    </tr>\n",
       "    <tr>\n",
       "      <th>149</th>\n",
       "      <td>-6.285661</td>\n",
       "      <td>53.343638</td>\n",
       "      <td>roe co whiskey distillery</td>\n",
       "      <td>roe co distillery</td>\n",
       "      <td>83.040936</td>\n",
       "    </tr>\n",
       "  </tbody>\n",
       "</table>\n",
       "<p>150 rows × 5 columns</p>\n",
       "</div>"
      ],
      "text/plain": [
       "     Longitude   Latitude                     loc_name  \\\n",
       "0    -6.265696  53.341171            macau casino club   \n",
       "1    -6.137493  53.374989                  bull island   \n",
       "2    -6.267419  53.342900                dublin castle   \n",
       "3    -6.267149  53.343922             dublin city hall   \n",
       "4    -6.372209  53.288411                civic theatre   \n",
       "..         ...        ...                          ...   \n",
       "145  -6.277493  53.343579                  vaults live   \n",
       "146  -6.284198  53.343248          guinness storehouse   \n",
       "147  -6.270211  53.352507              14 henrietta st   \n",
       "148  -6.276364  53.337285  dublin liberties distillery   \n",
       "149  -6.285661  53.343638    roe co whiskey distillery   \n",
       "\n",
       "                     rating_name   agg_score  \n",
       "0       macau casino club dublin  100.000000  \n",
       "1                    bull island  100.000000  \n",
       "2                  dublin castle  100.000000  \n",
       "3                      city hall  100.000000  \n",
       "4                  civic theatre  100.000000  \n",
       "..                           ...         ...  \n",
       "145                  vaults live  100.000000  \n",
       "146          guinness storehouse  100.000000  \n",
       "147              14 henrietta st  100.000000  \n",
       "148  dublin liberties distillery  100.000000  \n",
       "149            roe co distillery   83.040936  \n",
       "\n",
       "[150 rows x 5 columns]"
      ]
     },
     "execution_count": 92,
     "metadata": {},
     "output_type": "execute_result"
    }
   ],
   "source": [
    "loc_merged = pd.merge(loc_df.rename(columns={'name_clean':'loc_name'}), matches_df, on='loc_name')\n",
    "loc_merged.drop(columns=['idx', 'name'], inplace=True)\n",
    "loc_merged"
   ]
  },
  {
   "cell_type": "code",
   "execution_count": 96,
   "metadata": {},
   "outputs": [
    {
     "data": {
      "text/html": [
       "<div>\n",
       "<style scoped>\n",
       "    .dataframe tbody tr th:only-of-type {\n",
       "        vertical-align: middle;\n",
       "    }\n",
       "\n",
       "    .dataframe tbody tr th {\n",
       "        vertical-align: top;\n",
       "    }\n",
       "\n",
       "    .dataframe thead th {\n",
       "        text-align: right;\n",
       "    }\n",
       "</style>\n",
       "<table border=\"1\" class=\"dataframe\">\n",
       "  <thead>\n",
       "    <tr style=\"text-align: right;\">\n",
       "      <th></th>\n",
       "      <th>Longitude</th>\n",
       "      <th>Latitude</th>\n",
       "      <th>loc_name</th>\n",
       "      <th>rating_name</th>\n",
       "      <th>agg_score</th>\n",
       "      <th>rating</th>\n",
       "      <th>category</th>\n",
       "    </tr>\n",
       "  </thead>\n",
       "  <tbody>\n",
       "    <tr>\n",
       "      <th>0</th>\n",
       "      <td>-6.265696</td>\n",
       "      <td>53.341171</td>\n",
       "      <td>macau casino club</td>\n",
       "      <td>macau casino club dublin</td>\n",
       "      <td>100.000000</td>\n",
       "      <td>506</td>\n",
       "      <td>CASINOS &amp; GAMBLING</td>\n",
       "    </tr>\n",
       "    <tr>\n",
       "      <th>1</th>\n",
       "      <td>-6.137493</td>\n",
       "      <td>53.374989</td>\n",
       "      <td>bull island</td>\n",
       "      <td>bull island</td>\n",
       "      <td>100.000000</td>\n",
       "      <td>74</td>\n",
       "      <td>NATURE &amp; PARKS</td>\n",
       "    </tr>\n",
       "    <tr>\n",
       "      <th>2</th>\n",
       "      <td>-6.267419</td>\n",
       "      <td>53.342900</td>\n",
       "      <td>dublin castle</td>\n",
       "      <td>dublin castle</td>\n",
       "      <td>100.000000</td>\n",
       "      <td>43</td>\n",
       "      <td>SIGHTS &amp; LANDMARKS</td>\n",
       "    </tr>\n",
       "    <tr>\n",
       "      <th>3</th>\n",
       "      <td>-6.267149</td>\n",
       "      <td>53.343922</td>\n",
       "      <td>dublin city hall</td>\n",
       "      <td>city hall</td>\n",
       "      <td>100.000000</td>\n",
       "      <td>82</td>\n",
       "      <td>MUSEUMS</td>\n",
       "    </tr>\n",
       "    <tr>\n",
       "      <th>4</th>\n",
       "      <td>-6.372209</td>\n",
       "      <td>53.288411</td>\n",
       "      <td>civic theatre</td>\n",
       "      <td>civic theatre</td>\n",
       "      <td>100.000000</td>\n",
       "      <td>161</td>\n",
       "      <td>CONCERTS &amp; SHOWS</td>\n",
       "    </tr>\n",
       "    <tr>\n",
       "      <th>...</th>\n",
       "      <td>...</td>\n",
       "      <td>...</td>\n",
       "      <td>...</td>\n",
       "      <td>...</td>\n",
       "      <td>...</td>\n",
       "      <td>...</td>\n",
       "      <td>...</td>\n",
       "    </tr>\n",
       "    <tr>\n",
       "      <th>145</th>\n",
       "      <td>-6.277493</td>\n",
       "      <td>53.343579</td>\n",
       "      <td>vaults live</td>\n",
       "      <td>vaults live</td>\n",
       "      <td>100.000000</td>\n",
       "      <td>30</td>\n",
       "      <td>CONCERTS &amp; SHOWS</td>\n",
       "    </tr>\n",
       "    <tr>\n",
       "      <th>146</th>\n",
       "      <td>-6.284198</td>\n",
       "      <td>53.343248</td>\n",
       "      <td>guinness storehouse</td>\n",
       "      <td>guinness storehouse</td>\n",
       "      <td>100.000000</td>\n",
       "      <td>9</td>\n",
       "      <td>MUSEUMS</td>\n",
       "    </tr>\n",
       "    <tr>\n",
       "      <th>147</th>\n",
       "      <td>-6.270211</td>\n",
       "      <td>53.352507</td>\n",
       "      <td>14 henrietta st</td>\n",
       "      <td>14 henrietta st</td>\n",
       "      <td>100.000000</td>\n",
       "      <td>17</td>\n",
       "      <td>MUSEUMS</td>\n",
       "    </tr>\n",
       "    <tr>\n",
       "      <th>148</th>\n",
       "      <td>-6.276364</td>\n",
       "      <td>53.337285</td>\n",
       "      <td>dublin liberties distillery</td>\n",
       "      <td>dublin liberties distillery</td>\n",
       "      <td>100.000000</td>\n",
       "      <td>52</td>\n",
       "      <td>FOOD &amp; DRINK</td>\n",
       "    </tr>\n",
       "    <tr>\n",
       "      <th>149</th>\n",
       "      <td>-6.285661</td>\n",
       "      <td>53.343638</td>\n",
       "      <td>roe co whiskey distillery</td>\n",
       "      <td>roe co distillery</td>\n",
       "      <td>83.040936</td>\n",
       "      <td>48</td>\n",
       "      <td>FOOD &amp; DRINK</td>\n",
       "    </tr>\n",
       "  </tbody>\n",
       "</table>\n",
       "<p>150 rows × 7 columns</p>\n",
       "</div>"
      ],
      "text/plain": [
       "     Longitude   Latitude                     loc_name  \\\n",
       "0    -6.265696  53.341171            macau casino club   \n",
       "1    -6.137493  53.374989                  bull island   \n",
       "2    -6.267419  53.342900                dublin castle   \n",
       "3    -6.267149  53.343922             dublin city hall   \n",
       "4    -6.372209  53.288411                civic theatre   \n",
       "..         ...        ...                          ...   \n",
       "145  -6.277493  53.343579                  vaults live   \n",
       "146  -6.284198  53.343248          guinness storehouse   \n",
       "147  -6.270211  53.352507              14 henrietta st   \n",
       "148  -6.276364  53.337285  dublin liberties distillery   \n",
       "149  -6.285661  53.343638    roe co whiskey distillery   \n",
       "\n",
       "                     rating_name   agg_score  rating            category  \n",
       "0       macau casino club dublin  100.000000     506  CASINOS & GAMBLING  \n",
       "1                    bull island  100.000000      74      NATURE & PARKS  \n",
       "2                  dublin castle  100.000000      43  SIGHTS & LANDMARKS  \n",
       "3                      city hall  100.000000      82             MUSEUMS  \n",
       "4                  civic theatre  100.000000     161    CONCERTS & SHOWS  \n",
       "..                           ...         ...     ...                 ...  \n",
       "145                  vaults live  100.000000      30    CONCERTS & SHOWS  \n",
       "146          guinness storehouse  100.000000       9             MUSEUMS  \n",
       "147              14 henrietta st  100.000000      17             MUSEUMS  \n",
       "148  dublin liberties distillery  100.000000      52        FOOD & DRINK  \n",
       "149            roe co distillery   83.040936      48        FOOD & DRINK  \n",
       "\n",
       "[150 rows x 7 columns]"
      ]
     },
     "execution_count": 96,
     "metadata": {},
     "output_type": "execute_result"
    }
   ],
   "source": [
    "final_df = pd.merge(loc_merged, rating_df.rename(columns={'name_clean':'rating_name'}), on='rating_name', suffixes=['_loc', '_rating'])\n",
    "final_df.drop(columns=['idx', 'name'], inplace=True)\n",
    "final_df "
   ]
  },
  {
   "cell_type": "code",
   "execution_count": 97,
   "metadata": {},
   "outputs": [],
   "source": [
    "final_df.to_csv('rating_loc_attractions.csv', index=True)  "
   ]
  }
 ],
 "metadata": {
  "kernelspec": {
   "display_name": "Python 3",
   "language": "python",
   "name": "python3"
  },
  "language_info": {
   "codemirror_mode": {
    "name": "ipython",
    "version": 3
   },
   "file_extension": ".py",
   "mimetype": "text/x-python",
   "name": "python",
   "nbconvert_exporter": "python",
   "pygments_lexer": "ipython3",
   "version": "3.7.5"
  }
 },
 "nbformat": 4,
 "nbformat_minor": 4
}
